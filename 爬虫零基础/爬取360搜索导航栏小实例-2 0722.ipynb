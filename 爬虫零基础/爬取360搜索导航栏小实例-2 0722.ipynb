{
 "cells": [
  {
   "cell_type": "code",
   "execution_count": 1,
   "metadata": {},
   "outputs": [],
   "source": [
    "import requests"
   ]
  },
  {
   "cell_type": "code",
   "execution_count": 3,
   "metadata": {},
   "outputs": [],
   "source": [
    "from lxml import etree"
   ]
  },
  {
   "cell_type": "code",
   "execution_count": 5,
   "metadata": {},
   "outputs": [],
   "source": [
    "url='https://www.so.com/'#注意这边最后有一个斜杠"
   ]
  },
  {
   "cell_type": "code",
   "execution_count": 8,
   "metadata": {},
   "outputs": [],
   "source": [
    "hea={'User-Agent':'Mozilla/5.0 (Windows NT 10.0; Win64; x64) AppleWebKit/537.36 (KHTML, like Gecko) Chrome/64.0.3282.186 Safari/537.36'}"
   ]
  },
  {
   "cell_type": "code",
   "execution_count": 11,
   "metadata": {},
   "outputs": [],
   "source": [
    "response=requests.get(url,headers=hea)"
   ]
  },
  {
   "cell_type": "code",
   "execution_count": 15,
   "metadata": {},
   "outputs": [
    {
     "data": {
      "text/plain": [
       "200"
      ]
     },
     "execution_count": 15,
     "metadata": {},
     "output_type": "execute_result"
    }
   ],
   "source": [
    "response.status_code"
   ]
  },
  {
   "cell_type": "code",
   "execution_count": 16,
   "metadata": {},
   "outputs": [
    {
     "data": {
      "text/plain": [
       "True"
      ]
     },
     "execution_count": 16,
     "metadata": {},
     "output_type": "execute_result"
    }
   ],
   "source": [
    "response.status_code==requests.codes.ok"
   ]
  },
  {
   "cell_type": "code",
   "execution_count": 17,
   "metadata": {},
   "outputs": [],
   "source": [
    "sel=etree.HTML(response.text)"
   ]
  },
  {
   "cell_type": "markdown",
   "metadata": {},
   "source": [
    "通过浏览器的copy功能"
   ]
  },
  {
   "cell_type": "code",
   "execution_count": 19,
   "metadata": {},
   "outputs": [
    {
     "data": {
      "text/plain": [
       "'资讯'"
      ]
     },
     "execution_count": 19,
     "metadata": {},
     "output_type": "execute_result"
    }
   ],
   "source": [
    "sel.xpath('//*[@id=\"bd_tabnav\"]/nav/a[2]/text()')[0]"
   ]
  },
  {
   "cell_type": "code",
   "execution_count": 29,
   "metadata": {},
   "outputs": [],
   "source": [
    "title_list=sel.xpath('//*[@id=\"bd_tabnav\"]/nav/a/text()')#所有的a"
   ]
  },
  {
   "cell_type": "code",
   "execution_count": 30,
   "metadata": {},
   "outputs": [],
   "source": [
    "href_list=sel.xpath('//*[@id=\"bd_tabnav\"]/nav/a/@href')#属性前有个@，*[]"
   ]
  },
  {
   "cell_type": "code",
   "execution_count": 31,
   "metadata": {},
   "outputs": [
    {
     "name": "stdout",
     "output_type": "stream",
     "text": [
      "360导航 http://www.so.com/link?m=aQlkv%2BrmCbRODu%2BgRHnyuqF50H9Vyumk%2FW16hnzpUezyJrLA%2FgiDy0kYO9xZTQs3e\n",
      "资讯 http://www.so.com/link?m=akfXFAj1EZW8KM6mr1STfIKAg9ij%2Bd2rYmO%2BNcpnsz8qLAQZrAuZ9bjHbwL%2BIoSVv6%2B51Da1SY3JSRnDWzNBqVvJWK3Y%3D\n",
      "视频 http://www.so.com/link?m=a%2FoPgdlHaXxtEAi%2FM4LHej44BkRS328DezoIK54g6xiSXzZSRD4O3GLXeJ03mOQR0HnIT0WO%2FEbvqmt0WYmD8LCUyQtZJAGSw\n",
      "图片 http://www.so.com/link?m=aaNIxKT0%2BB1%2FNTNzyDOhTihBqX46NGxiNq5q55IdNsKmKvZPxhAQ4rksPOJqRoEiID%2BG7b18jJqH0LM5W6jZcZdqA66U%3D\n",
      "良医 http://www.so.com/link?m=aet4cncwddniEaPk6dHXguMLtzsuEZCshH9NOP1B83PNdna1JVlAE2E5xzKeyB2GUQSR9o8wo4KTK5n7ApE28%2FQ%3D%3D\n",
      "地图 http://www.so.com/link?m=awO8PKnkffQmRJMgtGhvtFRBmCjPehQ7bMLleGGVzGZgttvBqa0OWeqjI0Rj1K3gJ8HOqR9wjCluwrPf5GOXOHuzx4ao%3D\n",
      "百科 http://www.so.com/link?m=aD3cjqNFgDBHj%2Fv502fJBvsuh3Noih0W9shlXKoPo8nPktYhBYOVanURKO5ZUBSY%2BVcLgccJlykNYHTK95tcZIDE8O%2BU%3D\n",
      "英文 http://www.so.com/link?m=aUcLNmoYg5MLeeV4COblK2bWbOu%2FAqOxFj0BDAC2RhDKPNqV%2FaNLGuF%2FX3IuuOVpzova7jykEoINTnHmFubmEjg%3D%3D\n",
      "更多 javascript:void(0);\n"
     ]
    }
   ],
   "source": [
    "for title,url_ in zip(title_list,href_list):\n",
    "    print(title,url_)"
   ]
  }
 ],
 "metadata": {
  "kernelspec": {
   "display_name": "Python 3",
   "language": "python",
   "name": "python3"
  },
  "language_info": {
   "codemirror_mode": {
    "name": "ipython",
    "version": 3
   },
   "file_extension": ".py",
   "mimetype": "text/x-python",
   "name": "python",
   "nbconvert_exporter": "python",
   "pygments_lexer": "ipython3",
   "version": "3.6.3"
  }
 },
 "nbformat": 4,
 "nbformat_minor": 2
}
