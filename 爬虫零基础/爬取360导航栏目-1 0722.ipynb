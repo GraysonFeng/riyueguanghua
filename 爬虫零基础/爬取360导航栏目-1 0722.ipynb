{
 "cells": [
  {
   "cell_type": "code",
   "execution_count": 1,
   "metadata": {},
   "outputs": [],
   "source": [
    "import requests\n",
    "from lxml import etree"
   ]
  },
  {
   "cell_type": "markdown",
   "metadata": {},
   "source": [
    "定位一个url地址"
   ]
  },
  {
   "cell_type": "code",
   "execution_count": 2,
   "metadata": {},
   "outputs": [],
   "source": [
    "url='https://www.so.com/'"
   ]
  },
  {
   "cell_type": "markdown",
   "metadata": {},
   "source": [
    "反反爬虫，用User-Agent,添加了用户代理"
   ]
  },
  {
   "cell_type": "code",
   "execution_count": 3,
   "metadata": {},
   "outputs": [],
   "source": [
    "hea={'User-Agent':'Mozilla/5.0 (Windows NT 10.0; Win64; x64) AppleWebKit/537.36 (KHTML, like Gecko) Chrome/64.0.3282.186 Safari/537.36'}"
   ]
  },
  {
   "cell_type": "code",
   "execution_count": 4,
   "metadata": {},
   "outputs": [],
   "source": [
    "response=requests.get(url,headers=hea)"
   ]
  },
  {
   "cell_type": "markdown",
   "metadata": {},
   "source": [
    "判断状态是否正常"
   ]
  },
  {
   "cell_type": "code",
   "execution_count": 16,
   "metadata": {},
   "outputs": [
    {
     "data": {
      "text/plain": [
       "200"
      ]
     },
     "execution_count": 16,
     "metadata": {},
     "output_type": "execute_result"
    }
   ],
   "source": [
    "response.status_code#判断状态是否正常"
   ]
  },
  {
   "cell_type": "code",
   "execution_count": 19,
   "metadata": {},
   "outputs": [
    {
     "data": {
      "text/plain": [
       "True"
      ]
     },
     "execution_count": 19,
     "metadata": {},
     "output_type": "execute_result"
    }
   ],
   "source": [
    "response.status_code==requests.codes.ok#requests.codes.ok//status_code"
   ]
  },
  {
   "cell_type": "markdown",
   "metadata": {},
   "source": [
    "建立选择器"
   ]
  },
  {
   "cell_type": "code",
   "execution_count": 24,
   "metadata": {},
   "outputs": [],
   "source": [
    "sel=etree.HTML(response.text)#文本格式，response.text"
   ]
  },
  {
   "cell_type": "markdown",
   "metadata": {},
   "source": [
    "写路径"
   ]
  },
  {
   "cell_type": "code",
   "execution_count": 28,
   "metadata": {},
   "outputs": [
    {
     "data": {
      "text/plain": [
       "'http://www.so.com/link?m=aQlkv%2BrmCbRODu%2BgRHnyuqF50H9Vyumk%2FW16hnzpUezyJrLA%2FgiDy0kYO9xZTQs3e'"
      ]
     },
     "execution_count": 28,
     "metadata": {},
     "output_type": "execute_result"
    }
   ],
   "source": [
    "sel.xpath('//body/div/header/section/nav/a[1]/@href')[0]#a标签的属性，此处为div[2]，不定义的话就是默认所有的"
   ]
  },
  {
   "cell_type": "markdown",
   "metadata": {},
   "source": [
    "指定属性,区分平行元素"
   ]
  },
  {
   "cell_type": "code",
   "execution_count": 29,
   "metadata": {},
   "outputs": [
    {
     "data": {
      "text/plain": [
       "'http://www.so.com/link?m=aQlkv%2BrmCbRODu%2BgRHnyuqF50H9Vyumk%2FW16hnzpUezyJrLA%2FgiDy0kYO9xZTQs3e'"
      ]
     },
     "execution_count": 29,
     "metadata": {},
     "output_type": "execute_result"
    }
   ],
   "source": [
    "sel.xpath('//body/div[@class=\"page-wrap skin-page-wrap\"]/header/section/nav/a[1]/@href')[0]#注意里面“”"
   ]
  },
  {
   "cell_type": "markdown",
   "metadata": {},
   "source": [
    "skin-text skin-text-tab该属性在“网页源代码”中是唯一的"
   ]
  },
  {
   "cell_type": "code",
   "execution_count": 31,
   "metadata": {},
   "outputs": [
    {
     "data": {
      "text/plain": [
       "'http://www.so.com/link?m=aQlkv%2BrmCbRODu%2BgRHnyuqF50H9Vyumk%2FW16hnzpUezyJrLA%2FgiDy0kYO9xZTQs3e'"
      ]
     },
     "execution_count": 31,
     "metadata": {},
     "output_type": "execute_result"
    }
   ],
   "source": [
    "sel.xpath('//*[@class=\"skin-text skin-text-tab\"]/a[1]/@href')[0]#@class"
   ]
  },
  {
   "cell_type": "markdown",
   "metadata": {},
   "source": [
    "nav对应的属性skin-text skin-text-tab"
   ]
  }
 ],
 "metadata": {
  "kernelspec": {
   "display_name": "Python 3",
   "language": "python",
   "name": "python3"
  },
  "language_info": {
   "codemirror_mode": {
    "name": "ipython",
    "version": 3
   },
   "file_extension": ".py",
   "mimetype": "text/x-python",
   "name": "python",
   "nbconvert_exporter": "python",
   "pygments_lexer": "ipython3",
   "version": "3.6.3"
  }
 },
 "nbformat": 4,
 "nbformat_minor": 2
}
