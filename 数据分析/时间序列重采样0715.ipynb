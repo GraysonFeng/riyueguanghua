{
 "cells": [
  {
   "cell_type": "markdown",
   "metadata": {},
   "source": [
    "将时间序列从一个频率转换到另一个频率：降采样、升采样、采样时间点变化。"
   ]
  },
  {
   "cell_type": "code",
   "execution_count": 3,
   "metadata": {},
   "outputs": [],
   "source": [
    "import pandas as pd \n",
    "import numpy as np"
   ]
  },
  {
   "cell_type": "code",
   "execution_count": 4,
   "metadata": {},
   "outputs": [],
   "source": [
    "rng=pd.date_range('10-1-2018',periods=60)"
   ]
  },
  {
   "cell_type": "code",
   "execution_count": 5,
   "metadata": {},
   "outputs": [],
   "source": [
    "ts=pd.Series(np.random.randn(60),index=rng)"
   ]
  },
  {
   "cell_type": "code",
   "execution_count": 8,
   "metadata": {},
   "outputs": [
    {
     "data": {
      "text/plain": [
       "2018-10-01   -0.281385\n",
       "2018-10-02    0.052779\n",
       "2018-10-03    0.253008\n",
       "2018-10-04    0.864441\n",
       "2018-10-05    1.233292\n",
       "Freq: D, dtype: float64"
      ]
     },
     "execution_count": 8,
     "metadata": {},
     "output_type": "execute_result"
    }
   ],
   "source": [
    "ts.head()"
   ]
  },
  {
   "cell_type": "code",
   "execution_count": 10,
   "metadata": {},
   "outputs": [
    {
     "data": {
      "text/plain": [
       "1.233292437143352"
      ]
     },
     "execution_count": 10,
     "metadata": {},
     "output_type": "execute_result"
    }
   ],
   "source": [
    "ts['2018-10-05']"
   ]
  },
  {
   "cell_type": "code",
   "execution_count": 11,
   "metadata": {},
   "outputs": [
    {
     "data": {
      "text/plain": [
       "2018-10-31   -0.044419\n",
       "2018-11-30    0.017508\n",
       "Freq: M, dtype: float64"
      ]
     },
     "execution_count": 11,
     "metadata": {},
     "output_type": "execute_result"
    }
   ],
   "source": [
    "ts.resample('M').mean()#降采样，求平均值，以一个月的最后一天计算"
   ]
  },
  {
   "cell_type": "code",
   "execution_count": 19,
   "metadata": {},
   "outputs": [
    {
     "data": {
      "text/plain": [
       "DatetimeIndexResampler [freq=<MonthEnd>, axis=0, closed=right, label=right, convention=start, base=0]"
      ]
     },
     "execution_count": 19,
     "metadata": {},
     "output_type": "execute_result"
    }
   ],
   "source": [
    "ts.resample('M',closed='right')"
   ]
  },
  {
   "cell_type": "code",
   "execution_count": 21,
   "metadata": {},
   "outputs": [
    {
     "data": {
      "text/plain": [
       "DatetimeIndexResampler [freq=<MonthEnd>, axis=0, closed=left, label=right, convention=start, base=0]"
      ]
     },
     "execution_count": 21,
     "metadata": {},
     "output_type": "execute_result"
    }
   ],
   "source": [
    "ts.resample('M',closed='left')"
   ]
  },
  {
   "cell_type": "code",
   "execution_count": 20,
   "metadata": {},
   "outputs": [
    {
     "data": {
      "text/plain": [
       "DatetimeIndexResampler [freq=<MonthEnd>, axis=0, closed=right, label=right, convention=start, base=0]"
      ]
     },
     "execution_count": 20,
     "metadata": {},
     "output_type": "execute_result"
    }
   ],
   "source": [
    "ts.resample('M')#默认右闭合"
   ]
  },
  {
   "cell_type": "code",
   "execution_count": 22,
   "metadata": {},
   "outputs": [
    {
     "data": {
      "text/html": [
       "<div>\n",
       "<style scoped>\n",
       "    .dataframe tbody tr th:only-of-type {\n",
       "        vertical-align: middle;\n",
       "    }\n",
       "\n",
       "    .dataframe tbody tr th {\n",
       "        vertical-align: top;\n",
       "    }\n",
       "\n",
       "    .dataframe thead th {\n",
       "        text-align: right;\n",
       "    }\n",
       "</style>\n",
       "<table border=\"1\" class=\"dataframe\">\n",
       "  <thead>\n",
       "    <tr style=\"text-align: right;\">\n",
       "      <th></th>\n",
       "      <th>open</th>\n",
       "      <th>high</th>\n",
       "      <th>low</th>\n",
       "      <th>close</th>\n",
       "    </tr>\n",
       "  </thead>\n",
       "  <tbody>\n",
       "    <tr>\n",
       "      <th>2018-10-31</th>\n",
       "      <td>-0.281385</td>\n",
       "      <td>1.498315</td>\n",
       "      <td>-2.216095</td>\n",
       "      <td>1.131208</td>\n",
       "    </tr>\n",
       "    <tr>\n",
       "      <th>2018-11-30</th>\n",
       "      <td>1.120930</td>\n",
       "      <td>1.879857</td>\n",
       "      <td>-2.093627</td>\n",
       "      <td>-0.099167</td>\n",
       "    </tr>\n",
       "  </tbody>\n",
       "</table>\n",
       "</div>"
      ],
      "text/plain": [
       "                open      high       low     close\n",
       "2018-10-31 -0.281385  1.498315 -2.216095  1.131208\n",
       "2018-11-30  1.120930  1.879857 -2.093627 -0.099167"
      ]
     },
     "execution_count": 22,
     "metadata": {},
     "output_type": "execute_result"
    }
   ],
   "source": [
    "ts.resample('M').ohlc()#故事的开高低关"
   ]
  },
  {
   "cell_type": "code",
   "execution_count": 24,
   "metadata": {},
   "outputs": [
    {
     "data": {
      "text/html": [
       "<div>\n",
       "<style scoped>\n",
       "    .dataframe tbody tr th:only-of-type {\n",
       "        vertical-align: middle;\n",
       "    }\n",
       "\n",
       "    .dataframe tbody tr th {\n",
       "        vertical-align: top;\n",
       "    }\n",
       "\n",
       "    .dataframe thead th {\n",
       "        text-align: right;\n",
       "    }\n",
       "</style>\n",
       "<table border=\"1\" class=\"dataframe\">\n",
       "  <thead>\n",
       "    <tr style=\"text-align: right;\">\n",
       "      <th></th>\n",
       "      <th>open</th>\n",
       "      <th>high</th>\n",
       "      <th>low</th>\n",
       "      <th>close</th>\n",
       "    </tr>\n",
       "  </thead>\n",
       "  <tbody>\n",
       "    <tr>\n",
       "      <th>2018-10-31</th>\n",
       "      <td>-0.281385</td>\n",
       "      <td>1.498315</td>\n",
       "      <td>-2.216095</td>\n",
       "      <td>1.131208</td>\n",
       "    </tr>\n",
       "    <tr>\n",
       "      <th>2018-11-30</th>\n",
       "      <td>1.120930</td>\n",
       "      <td>1.879857</td>\n",
       "      <td>-2.093627</td>\n",
       "      <td>-0.099167</td>\n",
       "    </tr>\n",
       "  </tbody>\n",
       "</table>\n",
       "</div>"
      ],
      "text/plain": [
       "                open      high       low     close\n",
       "2018-10-31 -0.281385  1.498315 -2.216095  1.131208\n",
       "2018-11-30  1.120930  1.879857 -2.093627 -0.099167"
      ]
     },
     "execution_count": 24,
     "metadata": {},
     "output_type": "execute_result"
    }
   ],
   "source": [
    "ts.resample('M').ohlc()"
   ]
  },
  {
   "cell_type": "code",
   "execution_count": 25,
   "metadata": {},
   "outputs": [
    {
     "data": {
      "text/plain": [
       "10   -0.044419\n",
       "11    0.017508\n",
       "dtype: float64"
      ]
     },
     "execution_count": 25,
     "metadata": {},
     "output_type": "execute_result"
    }
   ],
   "source": [
    "ts.groupby(lambda x :x.month).mean()#按月"
   ]
  },
  {
   "cell_type": "code",
   "execution_count": 27,
   "metadata": {},
   "outputs": [
    {
     "data": {
      "text/plain": [
       "10   -0.044419\n",
       "11    0.017508\n",
       "dtype: float64"
      ]
     },
     "execution_count": 27,
     "metadata": {},
     "output_type": "execute_result"
    }
   ],
   "source": [
    "ts.groupby(lambda x:x.month).mean()"
   ]
  },
  {
   "cell_type": "code",
   "execution_count": 26,
   "metadata": {},
   "outputs": [
    {
     "data": {
      "text/plain": [
       "40    0.571242\n",
       "41   -0.060276\n",
       "42   -0.520762\n",
       "43   -0.237699\n",
       "44    0.051477\n",
       "45   -0.177108\n",
       "46    0.285550\n",
       "47   -0.187260\n",
       "48    0.263655\n",
       "dtype: float64"
      ]
     },
     "execution_count": 26,
     "metadata": {},
     "output_type": "execute_result"
    }
   ],
   "source": [
    "ts.groupby(lambda x :x.week).mean()#按一年中农的第几周"
   ]
  },
  {
   "cell_type": "code",
   "execution_count": 28,
   "metadata": {},
   "outputs": [
    {
     "data": {
      "text/plain": [
       "40    0.571242\n",
       "41   -0.060276\n",
       "42   -0.520762\n",
       "43   -0.237699\n",
       "44    0.051477\n",
       "45   -0.177108\n",
       "46    0.285550\n",
       "47   -0.187260\n",
       "48    0.263655\n",
       "dtype: float64"
      ]
     },
     "execution_count": 28,
     "metadata": {},
     "output_type": "execute_result"
    }
   ],
   "source": [
    "ts.groupby(lambda x:x.week).mean()"
   ]
  },
  {
   "cell_type": "code",
   "execution_count": 30,
   "metadata": {},
   "outputs": [
    {
     "data": {
      "text/plain": [
       "40    0.571242\n",
       "41   -0.060276\n",
       "42   -0.520762\n",
       "43   -0.237699\n",
       "44    0.051477\n",
       "45   -0.177108\n",
       "46    0.285550\n",
       "47   -0.187260\n",
       "48    0.263655\n",
       "dtype: float64"
      ]
     },
     "execution_count": 30,
     "metadata": {},
     "output_type": "execute_result"
    }
   ],
   "source": [
    "ts.groupby(lambda x:x.week).mean()"
   ]
  },
  {
   "cell_type": "markdown",
   "metadata": {},
   "source": [
    "升采样和插值"
   ]
  },
  {
   "cell_type": "code",
   "execution_count": null,
   "metadata": {},
   "outputs": [],
   "source": [
    "tf = pd.DataFrame(np.random.randn(2,4), index = pd.date_range('2017.10.1',periods = 2, freq = 'w'),columns = list('abcd'))"
   ]
  },
  {
   "cell_type": "code",
   "execution_count": 31,
   "metadata": {},
   "outputs": [],
   "source": [
    "tf=pd.DataFrame(np.random.randn(2,4),index=pd.date_range('2017.10.1',periods=2,freq='w'),columns=list('abcd'))"
   ]
  },
  {
   "cell_type": "code",
   "execution_count": 33,
   "metadata": {},
   "outputs": [
    {
     "data": {
      "text/html": [
       "<div>\n",
       "<style scoped>\n",
       "    .dataframe tbody tr th:only-of-type {\n",
       "        vertical-align: middle;\n",
       "    }\n",
       "\n",
       "    .dataframe tbody tr th {\n",
       "        vertical-align: top;\n",
       "    }\n",
       "\n",
       "    .dataframe thead th {\n",
       "        text-align: right;\n",
       "    }\n",
       "</style>\n",
       "<table border=\"1\" class=\"dataframe\">\n",
       "  <thead>\n",
       "    <tr style=\"text-align: right;\">\n",
       "      <th></th>\n",
       "      <th>a</th>\n",
       "      <th>b</th>\n",
       "      <th>c</th>\n",
       "      <th>d</th>\n",
       "    </tr>\n",
       "  </thead>\n",
       "  <tbody>\n",
       "    <tr>\n",
       "      <th>2017-10-01</th>\n",
       "      <td>-0.406784</td>\n",
       "      <td>-2.660355</td>\n",
       "      <td>0.907206</td>\n",
       "      <td>-1.154772</td>\n",
       "    </tr>\n",
       "    <tr>\n",
       "      <th>2017-10-02</th>\n",
       "      <td>NaN</td>\n",
       "      <td>NaN</td>\n",
       "      <td>NaN</td>\n",
       "      <td>NaN</td>\n",
       "    </tr>\n",
       "    <tr>\n",
       "      <th>2017-10-03</th>\n",
       "      <td>NaN</td>\n",
       "      <td>NaN</td>\n",
       "      <td>NaN</td>\n",
       "      <td>NaN</td>\n",
       "    </tr>\n",
       "    <tr>\n",
       "      <th>2017-10-04</th>\n",
       "      <td>NaN</td>\n",
       "      <td>NaN</td>\n",
       "      <td>NaN</td>\n",
       "      <td>NaN</td>\n",
       "    </tr>\n",
       "    <tr>\n",
       "      <th>2017-10-05</th>\n",
       "      <td>NaN</td>\n",
       "      <td>NaN</td>\n",
       "      <td>NaN</td>\n",
       "      <td>NaN</td>\n",
       "    </tr>\n",
       "    <tr>\n",
       "      <th>2017-10-06</th>\n",
       "      <td>NaN</td>\n",
       "      <td>NaN</td>\n",
       "      <td>NaN</td>\n",
       "      <td>NaN</td>\n",
       "    </tr>\n",
       "    <tr>\n",
       "      <th>2017-10-07</th>\n",
       "      <td>NaN</td>\n",
       "      <td>NaN</td>\n",
       "      <td>NaN</td>\n",
       "      <td>NaN</td>\n",
       "    </tr>\n",
       "    <tr>\n",
       "      <th>2017-10-08</th>\n",
       "      <td>1.126686</td>\n",
       "      <td>0.895575</td>\n",
       "      <td>0.224828</td>\n",
       "      <td>-0.185927</td>\n",
       "    </tr>\n",
       "  </tbody>\n",
       "</table>\n",
       "</div>"
      ],
      "text/plain": [
       "                   a         b         c         d\n",
       "2017-10-01 -0.406784 -2.660355  0.907206 -1.154772\n",
       "2017-10-02       NaN       NaN       NaN       NaN\n",
       "2017-10-03       NaN       NaN       NaN       NaN\n",
       "2017-10-04       NaN       NaN       NaN       NaN\n",
       "2017-10-05       NaN       NaN       NaN       NaN\n",
       "2017-10-06       NaN       NaN       NaN       NaN\n",
       "2017-10-07       NaN       NaN       NaN       NaN\n",
       "2017-10-08  1.126686  0.895575  0.224828 -0.185927"
      ]
     },
     "execution_count": 33,
     "metadata": {},
     "output_type": "execute_result"
    }
   ],
   "source": [
    "tf.resample('D').asfreq()#默认情况填写Nan"
   ]
  },
  {
   "cell_type": "code",
   "execution_count": 34,
   "metadata": {},
   "outputs": [
    {
     "data": {
      "text/html": [
       "<div>\n",
       "<style scoped>\n",
       "    .dataframe tbody tr th:only-of-type {\n",
       "        vertical-align: middle;\n",
       "    }\n",
       "\n",
       "    .dataframe tbody tr th {\n",
       "        vertical-align: top;\n",
       "    }\n",
       "\n",
       "    .dataframe thead th {\n",
       "        text-align: right;\n",
       "    }\n",
       "</style>\n",
       "<table border=\"1\" class=\"dataframe\">\n",
       "  <thead>\n",
       "    <tr style=\"text-align: right;\">\n",
       "      <th></th>\n",
       "      <th>a</th>\n",
       "      <th>b</th>\n",
       "      <th>c</th>\n",
       "      <th>d</th>\n",
       "    </tr>\n",
       "  </thead>\n",
       "  <tbody>\n",
       "    <tr>\n",
       "      <th>2017-10-01</th>\n",
       "      <td>-0.406784</td>\n",
       "      <td>-2.660355</td>\n",
       "      <td>0.907206</td>\n",
       "      <td>-1.154772</td>\n",
       "    </tr>\n",
       "    <tr>\n",
       "      <th>2017-10-02</th>\n",
       "      <td>NaN</td>\n",
       "      <td>NaN</td>\n",
       "      <td>NaN</td>\n",
       "      <td>NaN</td>\n",
       "    </tr>\n",
       "    <tr>\n",
       "      <th>2017-10-03</th>\n",
       "      <td>NaN</td>\n",
       "      <td>NaN</td>\n",
       "      <td>NaN</td>\n",
       "      <td>NaN</td>\n",
       "    </tr>\n",
       "    <tr>\n",
       "      <th>2017-10-04</th>\n",
       "      <td>NaN</td>\n",
       "      <td>NaN</td>\n",
       "      <td>NaN</td>\n",
       "      <td>NaN</td>\n",
       "    </tr>\n",
       "    <tr>\n",
       "      <th>2017-10-05</th>\n",
       "      <td>NaN</td>\n",
       "      <td>NaN</td>\n",
       "      <td>NaN</td>\n",
       "      <td>NaN</td>\n",
       "    </tr>\n",
       "    <tr>\n",
       "      <th>2017-10-06</th>\n",
       "      <td>NaN</td>\n",
       "      <td>NaN</td>\n",
       "      <td>NaN</td>\n",
       "      <td>NaN</td>\n",
       "    </tr>\n",
       "    <tr>\n",
       "      <th>2017-10-07</th>\n",
       "      <td>NaN</td>\n",
       "      <td>NaN</td>\n",
       "      <td>NaN</td>\n",
       "      <td>NaN</td>\n",
       "    </tr>\n",
       "    <tr>\n",
       "      <th>2017-10-08</th>\n",
       "      <td>1.126686</td>\n",
       "      <td>0.895575</td>\n",
       "      <td>0.224828</td>\n",
       "      <td>-0.185927</td>\n",
       "    </tr>\n",
       "  </tbody>\n",
       "</table>\n",
       "</div>"
      ],
      "text/plain": [
       "                   a         b         c         d\n",
       "2017-10-01 -0.406784 -2.660355  0.907206 -1.154772\n",
       "2017-10-02       NaN       NaN       NaN       NaN\n",
       "2017-10-03       NaN       NaN       NaN       NaN\n",
       "2017-10-04       NaN       NaN       NaN       NaN\n",
       "2017-10-05       NaN       NaN       NaN       NaN\n",
       "2017-10-06       NaN       NaN       NaN       NaN\n",
       "2017-10-07       NaN       NaN       NaN       NaN\n",
       "2017-10-08  1.126686  0.895575  0.224828 -0.185927"
      ]
     },
     "execution_count": 34,
     "metadata": {},
     "output_type": "execute_result"
    }
   ],
   "source": [
    "tf.asfreq('D')#以上的另一种形式，推荐上面这种"
   ]
  },
  {
   "cell_type": "code",
   "execution_count": 35,
   "metadata": {},
   "outputs": [
    {
     "data": {
      "text/html": [
       "<div>\n",
       "<style scoped>\n",
       "    .dataframe tbody tr th:only-of-type {\n",
       "        vertical-align: middle;\n",
       "    }\n",
       "\n",
       "    .dataframe tbody tr th {\n",
       "        vertical-align: top;\n",
       "    }\n",
       "\n",
       "    .dataframe thead th {\n",
       "        text-align: right;\n",
       "    }\n",
       "</style>\n",
       "<table border=\"1\" class=\"dataframe\">\n",
       "  <thead>\n",
       "    <tr style=\"text-align: right;\">\n",
       "      <th></th>\n",
       "      <th>a</th>\n",
       "      <th>b</th>\n",
       "      <th>c</th>\n",
       "      <th>d</th>\n",
       "    </tr>\n",
       "  </thead>\n",
       "  <tbody>\n",
       "    <tr>\n",
       "      <th>2017-10-01</th>\n",
       "      <td>-0.406784</td>\n",
       "      <td>-2.660355</td>\n",
       "      <td>0.907206</td>\n",
       "      <td>-1.154772</td>\n",
       "    </tr>\n",
       "    <tr>\n",
       "      <th>2017-10-02</th>\n",
       "      <td>-0.406784</td>\n",
       "      <td>-2.660355</td>\n",
       "      <td>0.907206</td>\n",
       "      <td>-1.154772</td>\n",
       "    </tr>\n",
       "    <tr>\n",
       "      <th>2017-10-03</th>\n",
       "      <td>-0.406784</td>\n",
       "      <td>-2.660355</td>\n",
       "      <td>0.907206</td>\n",
       "      <td>-1.154772</td>\n",
       "    </tr>\n",
       "    <tr>\n",
       "      <th>2017-10-04</th>\n",
       "      <td>-0.406784</td>\n",
       "      <td>-2.660355</td>\n",
       "      <td>0.907206</td>\n",
       "      <td>-1.154772</td>\n",
       "    </tr>\n",
       "    <tr>\n",
       "      <th>2017-10-05</th>\n",
       "      <td>-0.406784</td>\n",
       "      <td>-2.660355</td>\n",
       "      <td>0.907206</td>\n",
       "      <td>-1.154772</td>\n",
       "    </tr>\n",
       "    <tr>\n",
       "      <th>2017-10-06</th>\n",
       "      <td>-0.406784</td>\n",
       "      <td>-2.660355</td>\n",
       "      <td>0.907206</td>\n",
       "      <td>-1.154772</td>\n",
       "    </tr>\n",
       "    <tr>\n",
       "      <th>2017-10-07</th>\n",
       "      <td>-0.406784</td>\n",
       "      <td>-2.660355</td>\n",
       "      <td>0.907206</td>\n",
       "      <td>-1.154772</td>\n",
       "    </tr>\n",
       "    <tr>\n",
       "      <th>2017-10-08</th>\n",
       "      <td>1.126686</td>\n",
       "      <td>0.895575</td>\n",
       "      <td>0.224828</td>\n",
       "      <td>-0.185927</td>\n",
       "    </tr>\n",
       "  </tbody>\n",
       "</table>\n",
       "</div>"
      ],
      "text/plain": [
       "                   a         b         c         d\n",
       "2017-10-01 -0.406784 -2.660355  0.907206 -1.154772\n",
       "2017-10-02 -0.406784 -2.660355  0.907206 -1.154772\n",
       "2017-10-03 -0.406784 -2.660355  0.907206 -1.154772\n",
       "2017-10-04 -0.406784 -2.660355  0.907206 -1.154772\n",
       "2017-10-05 -0.406784 -2.660355  0.907206 -1.154772\n",
       "2017-10-06 -0.406784 -2.660355  0.907206 -1.154772\n",
       "2017-10-07 -0.406784 -2.660355  0.907206 -1.154772\n",
       "2017-10-08  1.126686  0.895575  0.224828 -0.185927"
      ]
     },
     "execution_count": 35,
     "metadata": {},
     "output_type": "execute_result"
    }
   ],
   "source": [
    "tf.resample('D').pad()#使用前面的值填充"
   ]
  },
  {
   "cell_type": "code",
   "execution_count": 36,
   "metadata": {},
   "outputs": [
    {
     "data": {
      "text/html": [
       "<div>\n",
       "<style scoped>\n",
       "    .dataframe tbody tr th:only-of-type {\n",
       "        vertical-align: middle;\n",
       "    }\n",
       "\n",
       "    .dataframe tbody tr th {\n",
       "        vertical-align: top;\n",
       "    }\n",
       "\n",
       "    .dataframe thead th {\n",
       "        text-align: right;\n",
       "    }\n",
       "</style>\n",
       "<table border=\"1\" class=\"dataframe\">\n",
       "  <thead>\n",
       "    <tr style=\"text-align: right;\">\n",
       "      <th></th>\n",
       "      <th>a</th>\n",
       "      <th>b</th>\n",
       "      <th>c</th>\n",
       "      <th>d</th>\n",
       "    </tr>\n",
       "  </thead>\n",
       "  <tbody>\n",
       "    <tr>\n",
       "      <th>2017-10-01</th>\n",
       "      <td>-0.406784</td>\n",
       "      <td>-2.660355</td>\n",
       "      <td>0.907206</td>\n",
       "      <td>-1.154772</td>\n",
       "    </tr>\n",
       "    <tr>\n",
       "      <th>2017-10-02</th>\n",
       "      <td>-0.406784</td>\n",
       "      <td>-2.660355</td>\n",
       "      <td>0.907206</td>\n",
       "      <td>-1.154772</td>\n",
       "    </tr>\n",
       "    <tr>\n",
       "      <th>2017-10-03</th>\n",
       "      <td>-0.406784</td>\n",
       "      <td>-2.660355</td>\n",
       "      <td>0.907206</td>\n",
       "      <td>-1.154772</td>\n",
       "    </tr>\n",
       "    <tr>\n",
       "      <th>2017-10-04</th>\n",
       "      <td>-0.406784</td>\n",
       "      <td>-2.660355</td>\n",
       "      <td>0.907206</td>\n",
       "      <td>-1.154772</td>\n",
       "    </tr>\n",
       "    <tr>\n",
       "      <th>2017-10-05</th>\n",
       "      <td>-0.406784</td>\n",
       "      <td>-2.660355</td>\n",
       "      <td>0.907206</td>\n",
       "      <td>-1.154772</td>\n",
       "    </tr>\n",
       "    <tr>\n",
       "      <th>2017-10-06</th>\n",
       "      <td>-0.406784</td>\n",
       "      <td>-2.660355</td>\n",
       "      <td>0.907206</td>\n",
       "      <td>-1.154772</td>\n",
       "    </tr>\n",
       "    <tr>\n",
       "      <th>2017-10-07</th>\n",
       "      <td>-0.406784</td>\n",
       "      <td>-2.660355</td>\n",
       "      <td>0.907206</td>\n",
       "      <td>-1.154772</td>\n",
       "    </tr>\n",
       "    <tr>\n",
       "      <th>2017-10-08</th>\n",
       "      <td>1.126686</td>\n",
       "      <td>0.895575</td>\n",
       "      <td>0.224828</td>\n",
       "      <td>-0.185927</td>\n",
       "    </tr>\n",
       "  </tbody>\n",
       "</table>\n",
       "</div>"
      ],
      "text/plain": [
       "                   a         b         c         d\n",
       "2017-10-01 -0.406784 -2.660355  0.907206 -1.154772\n",
       "2017-10-02 -0.406784 -2.660355  0.907206 -1.154772\n",
       "2017-10-03 -0.406784 -2.660355  0.907206 -1.154772\n",
       "2017-10-04 -0.406784 -2.660355  0.907206 -1.154772\n",
       "2017-10-05 -0.406784 -2.660355  0.907206 -1.154772\n",
       "2017-10-06 -0.406784 -2.660355  0.907206 -1.154772\n",
       "2017-10-07 -0.406784 -2.660355  0.907206 -1.154772\n",
       "2017-10-08  1.126686  0.895575  0.224828 -0.185927"
      ]
     },
     "execution_count": 36,
     "metadata": {},
     "output_type": "execute_result"
    }
   ],
   "source": [
    "tf.resample('D').ffill()#用前面的值进行填充"
   ]
  },
  {
   "cell_type": "code",
   "execution_count": 37,
   "metadata": {},
   "outputs": [
    {
     "data": {
      "text/html": [
       "<div>\n",
       "<style scoped>\n",
       "    .dataframe tbody tr th:only-of-type {\n",
       "        vertical-align: middle;\n",
       "    }\n",
       "\n",
       "    .dataframe tbody tr th {\n",
       "        vertical-align: top;\n",
       "    }\n",
       "\n",
       "    .dataframe thead th {\n",
       "        text-align: right;\n",
       "    }\n",
       "</style>\n",
       "<table border=\"1\" class=\"dataframe\">\n",
       "  <thead>\n",
       "    <tr style=\"text-align: right;\">\n",
       "      <th></th>\n",
       "      <th>a</th>\n",
       "      <th>b</th>\n",
       "      <th>c</th>\n",
       "      <th>d</th>\n",
       "    </tr>\n",
       "  </thead>\n",
       "  <tbody>\n",
       "    <tr>\n",
       "      <th>2017-10-01</th>\n",
       "      <td>-0.406784</td>\n",
       "      <td>-2.660355</td>\n",
       "      <td>0.907206</td>\n",
       "      <td>-1.154772</td>\n",
       "    </tr>\n",
       "    <tr>\n",
       "      <th>2017-10-02</th>\n",
       "      <td>1.126686</td>\n",
       "      <td>0.895575</td>\n",
       "      <td>0.224828</td>\n",
       "      <td>-0.185927</td>\n",
       "    </tr>\n",
       "    <tr>\n",
       "      <th>2017-10-03</th>\n",
       "      <td>1.126686</td>\n",
       "      <td>0.895575</td>\n",
       "      <td>0.224828</td>\n",
       "      <td>-0.185927</td>\n",
       "    </tr>\n",
       "    <tr>\n",
       "      <th>2017-10-04</th>\n",
       "      <td>1.126686</td>\n",
       "      <td>0.895575</td>\n",
       "      <td>0.224828</td>\n",
       "      <td>-0.185927</td>\n",
       "    </tr>\n",
       "    <tr>\n",
       "      <th>2017-10-05</th>\n",
       "      <td>1.126686</td>\n",
       "      <td>0.895575</td>\n",
       "      <td>0.224828</td>\n",
       "      <td>-0.185927</td>\n",
       "    </tr>\n",
       "    <tr>\n",
       "      <th>2017-10-06</th>\n",
       "      <td>1.126686</td>\n",
       "      <td>0.895575</td>\n",
       "      <td>0.224828</td>\n",
       "      <td>-0.185927</td>\n",
       "    </tr>\n",
       "    <tr>\n",
       "      <th>2017-10-07</th>\n",
       "      <td>1.126686</td>\n",
       "      <td>0.895575</td>\n",
       "      <td>0.224828</td>\n",
       "      <td>-0.185927</td>\n",
       "    </tr>\n",
       "    <tr>\n",
       "      <th>2017-10-08</th>\n",
       "      <td>1.126686</td>\n",
       "      <td>0.895575</td>\n",
       "      <td>0.224828</td>\n",
       "      <td>-0.185927</td>\n",
       "    </tr>\n",
       "  </tbody>\n",
       "</table>\n",
       "</div>"
      ],
      "text/plain": [
       "                   a         b         c         d\n",
       "2017-10-01 -0.406784 -2.660355  0.907206 -1.154772\n",
       "2017-10-02  1.126686  0.895575  0.224828 -0.185927\n",
       "2017-10-03  1.126686  0.895575  0.224828 -0.185927\n",
       "2017-10-04  1.126686  0.895575  0.224828 -0.185927\n",
       "2017-10-05  1.126686  0.895575  0.224828 -0.185927\n",
       "2017-10-06  1.126686  0.895575  0.224828 -0.185927\n",
       "2017-10-07  1.126686  0.895575  0.224828 -0.185927\n",
       "2017-10-08  1.126686  0.895575  0.224828 -0.185927"
      ]
     },
     "execution_count": 37,
     "metadata": {},
     "output_type": "execute_result"
    }
   ],
   "source": [
    "tf.resample('D').bfill()#用后面的值进行填充"
   ]
  },
  {
   "cell_type": "code",
   "execution_count": 38,
   "metadata": {},
   "outputs": [
    {
     "data": {
      "text/html": [
       "<div>\n",
       "<style scoped>\n",
       "    .dataframe tbody tr th:only-of-type {\n",
       "        vertical-align: middle;\n",
       "    }\n",
       "\n",
       "    .dataframe tbody tr th {\n",
       "        vertical-align: top;\n",
       "    }\n",
       "\n",
       "    .dataframe thead th {\n",
       "        text-align: right;\n",
       "    }\n",
       "</style>\n",
       "<table border=\"1\" class=\"dataframe\">\n",
       "  <thead>\n",
       "    <tr style=\"text-align: right;\">\n",
       "      <th></th>\n",
       "      <th>a</th>\n",
       "      <th>b</th>\n",
       "      <th>c</th>\n",
       "      <th>d</th>\n",
       "    </tr>\n",
       "  </thead>\n",
       "  <tbody>\n",
       "    <tr>\n",
       "      <th>2017-10-01</th>\n",
       "      <td>-0.406784</td>\n",
       "      <td>-2.660355</td>\n",
       "      <td>0.907206</td>\n",
       "      <td>-1.154772</td>\n",
       "    </tr>\n",
       "    <tr>\n",
       "      <th>2017-10-02</th>\n",
       "      <td>NaN</td>\n",
       "      <td>NaN</td>\n",
       "      <td>NaN</td>\n",
       "      <td>NaN</td>\n",
       "    </tr>\n",
       "    <tr>\n",
       "      <th>2017-10-03</th>\n",
       "      <td>NaN</td>\n",
       "      <td>NaN</td>\n",
       "      <td>NaN</td>\n",
       "      <td>NaN</td>\n",
       "    </tr>\n",
       "    <tr>\n",
       "      <th>2017-10-04</th>\n",
       "      <td>NaN</td>\n",
       "      <td>NaN</td>\n",
       "      <td>NaN</td>\n",
       "      <td>NaN</td>\n",
       "    </tr>\n",
       "    <tr>\n",
       "      <th>2017-10-05</th>\n",
       "      <td>NaN</td>\n",
       "      <td>NaN</td>\n",
       "      <td>NaN</td>\n",
       "      <td>NaN</td>\n",
       "    </tr>\n",
       "    <tr>\n",
       "      <th>2017-10-06</th>\n",
       "      <td>NaN</td>\n",
       "      <td>NaN</td>\n",
       "      <td>NaN</td>\n",
       "      <td>NaN</td>\n",
       "    </tr>\n",
       "    <tr>\n",
       "      <th>2017-10-07</th>\n",
       "      <td>NaN</td>\n",
       "      <td>NaN</td>\n",
       "      <td>NaN</td>\n",
       "      <td>NaN</td>\n",
       "    </tr>\n",
       "    <tr>\n",
       "      <th>2017-10-08</th>\n",
       "      <td>1.126686</td>\n",
       "      <td>0.895575</td>\n",
       "      <td>0.224828</td>\n",
       "      <td>-0.185927</td>\n",
       "    </tr>\n",
       "  </tbody>\n",
       "</table>\n",
       "</div>"
      ],
      "text/plain": [
       "                   a         b         c         d\n",
       "2017-10-01 -0.406784 -2.660355  0.907206 -1.154772\n",
       "2017-10-02       NaN       NaN       NaN       NaN\n",
       "2017-10-03       NaN       NaN       NaN       NaN\n",
       "2017-10-04       NaN       NaN       NaN       NaN\n",
       "2017-10-05       NaN       NaN       NaN       NaN\n",
       "2017-10-06       NaN       NaN       NaN       NaN\n",
       "2017-10-07       NaN       NaN       NaN       NaN\n",
       "2017-10-08  1.126686  0.895575  0.224828 -0.185927"
      ]
     },
     "execution_count": 38,
     "metadata": {},
     "output_type": "execute_result"
    }
   ],
   "source": [
    "tf.resample('D').asfreq()"
   ]
  },
  {
   "cell_type": "code",
   "execution_count": 39,
   "metadata": {},
   "outputs": [
    {
     "data": {
      "text/html": [
       "<div>\n",
       "<style scoped>\n",
       "    .dataframe tbody tr th:only-of-type {\n",
       "        vertical-align: middle;\n",
       "    }\n",
       "\n",
       "    .dataframe tbody tr th {\n",
       "        vertical-align: top;\n",
       "    }\n",
       "\n",
       "    .dataframe thead th {\n",
       "        text-align: right;\n",
       "    }\n",
       "</style>\n",
       "<table border=\"1\" class=\"dataframe\">\n",
       "  <thead>\n",
       "    <tr style=\"text-align: right;\">\n",
       "      <th></th>\n",
       "      <th>a</th>\n",
       "      <th>b</th>\n",
       "      <th>c</th>\n",
       "      <th>d</th>\n",
       "    </tr>\n",
       "  </thead>\n",
       "  <tbody>\n",
       "    <tr>\n",
       "      <th>2017-10-01</th>\n",
       "      <td>-0.406784</td>\n",
       "      <td>-2.660355</td>\n",
       "      <td>0.907206</td>\n",
       "      <td>-1.154772</td>\n",
       "    </tr>\n",
       "    <tr>\n",
       "      <th>2017-10-02</th>\n",
       "      <td>-0.406784</td>\n",
       "      <td>-2.660355</td>\n",
       "      <td>0.907206</td>\n",
       "      <td>-1.154772</td>\n",
       "    </tr>\n",
       "    <tr>\n",
       "      <th>2017-10-03</th>\n",
       "      <td>-0.406784</td>\n",
       "      <td>-2.660355</td>\n",
       "      <td>0.907206</td>\n",
       "      <td>-1.154772</td>\n",
       "    </tr>\n",
       "    <tr>\n",
       "      <th>2017-10-04</th>\n",
       "      <td>-0.406784</td>\n",
       "      <td>-2.660355</td>\n",
       "      <td>0.907206</td>\n",
       "      <td>-1.154772</td>\n",
       "    </tr>\n",
       "    <tr>\n",
       "      <th>2017-10-05</th>\n",
       "      <td>-0.406784</td>\n",
       "      <td>-2.660355</td>\n",
       "      <td>0.907206</td>\n",
       "      <td>-1.154772</td>\n",
       "    </tr>\n",
       "    <tr>\n",
       "      <th>2017-10-06</th>\n",
       "      <td>-0.406784</td>\n",
       "      <td>-2.660355</td>\n",
       "      <td>0.907206</td>\n",
       "      <td>-1.154772</td>\n",
       "    </tr>\n",
       "    <tr>\n",
       "      <th>2017-10-07</th>\n",
       "      <td>-0.406784</td>\n",
       "      <td>-2.660355</td>\n",
       "      <td>0.907206</td>\n",
       "      <td>-1.154772</td>\n",
       "    </tr>\n",
       "    <tr>\n",
       "      <th>2017-10-08</th>\n",
       "      <td>1.126686</td>\n",
       "      <td>0.895575</td>\n",
       "      <td>0.224828</td>\n",
       "      <td>-0.185927</td>\n",
       "    </tr>\n",
       "  </tbody>\n",
       "</table>\n",
       "</div>"
      ],
      "text/plain": [
       "                   a         b         c         d\n",
       "2017-10-01 -0.406784 -2.660355  0.907206 -1.154772\n",
       "2017-10-02 -0.406784 -2.660355  0.907206 -1.154772\n",
       "2017-10-03 -0.406784 -2.660355  0.907206 -1.154772\n",
       "2017-10-04 -0.406784 -2.660355  0.907206 -1.154772\n",
       "2017-10-05 -0.406784 -2.660355  0.907206 -1.154772\n",
       "2017-10-06 -0.406784 -2.660355  0.907206 -1.154772\n",
       "2017-10-07 -0.406784 -2.660355  0.907206 -1.154772\n",
       "2017-10-08  1.126686  0.895575  0.224828 -0.185927"
      ]
     },
     "execution_count": 39,
     "metadata": {},
     "output_type": "execute_result"
    }
   ],
   "source": [
    "tf.resample('D').pad()"
   ]
  },
  {
   "cell_type": "code",
   "execution_count": 40,
   "metadata": {},
   "outputs": [
    {
     "data": {
      "text/html": [
       "<div>\n",
       "<style scoped>\n",
       "    .dataframe tbody tr th:only-of-type {\n",
       "        vertical-align: middle;\n",
       "    }\n",
       "\n",
       "    .dataframe tbody tr th {\n",
       "        vertical-align: top;\n",
       "    }\n",
       "\n",
       "    .dataframe thead th {\n",
       "        text-align: right;\n",
       "    }\n",
       "</style>\n",
       "<table border=\"1\" class=\"dataframe\">\n",
       "  <thead>\n",
       "    <tr style=\"text-align: right;\">\n",
       "      <th></th>\n",
       "      <th>a</th>\n",
       "      <th>b</th>\n",
       "      <th>c</th>\n",
       "      <th>d</th>\n",
       "    </tr>\n",
       "  </thead>\n",
       "  <tbody>\n",
       "    <tr>\n",
       "      <th>2017-10-01</th>\n",
       "      <td>-0.406784</td>\n",
       "      <td>-2.660355</td>\n",
       "      <td>0.907206</td>\n",
       "      <td>-1.154772</td>\n",
       "    </tr>\n",
       "    <tr>\n",
       "      <th>2017-10-02</th>\n",
       "      <td>1.126686</td>\n",
       "      <td>0.895575</td>\n",
       "      <td>0.224828</td>\n",
       "      <td>-0.185927</td>\n",
       "    </tr>\n",
       "    <tr>\n",
       "      <th>2017-10-03</th>\n",
       "      <td>1.126686</td>\n",
       "      <td>0.895575</td>\n",
       "      <td>0.224828</td>\n",
       "      <td>-0.185927</td>\n",
       "    </tr>\n",
       "    <tr>\n",
       "      <th>2017-10-04</th>\n",
       "      <td>1.126686</td>\n",
       "      <td>0.895575</td>\n",
       "      <td>0.224828</td>\n",
       "      <td>-0.185927</td>\n",
       "    </tr>\n",
       "    <tr>\n",
       "      <th>2017-10-05</th>\n",
       "      <td>1.126686</td>\n",
       "      <td>0.895575</td>\n",
       "      <td>0.224828</td>\n",
       "      <td>-0.185927</td>\n",
       "    </tr>\n",
       "    <tr>\n",
       "      <th>2017-10-06</th>\n",
       "      <td>1.126686</td>\n",
       "      <td>0.895575</td>\n",
       "      <td>0.224828</td>\n",
       "      <td>-0.185927</td>\n",
       "    </tr>\n",
       "    <tr>\n",
       "      <th>2017-10-07</th>\n",
       "      <td>1.126686</td>\n",
       "      <td>0.895575</td>\n",
       "      <td>0.224828</td>\n",
       "      <td>-0.185927</td>\n",
       "    </tr>\n",
       "    <tr>\n",
       "      <th>2017-10-08</th>\n",
       "      <td>1.126686</td>\n",
       "      <td>0.895575</td>\n",
       "      <td>0.224828</td>\n",
       "      <td>-0.185927</td>\n",
       "    </tr>\n",
       "  </tbody>\n",
       "</table>\n",
       "</div>"
      ],
      "text/plain": [
       "                   a         b         c         d\n",
       "2017-10-01 -0.406784 -2.660355  0.907206 -1.154772\n",
       "2017-10-02  1.126686  0.895575  0.224828 -0.185927\n",
       "2017-10-03  1.126686  0.895575  0.224828 -0.185927\n",
       "2017-10-04  1.126686  0.895575  0.224828 -0.185927\n",
       "2017-10-05  1.126686  0.895575  0.224828 -0.185927\n",
       "2017-10-06  1.126686  0.895575  0.224828 -0.185927\n",
       "2017-10-07  1.126686  0.895575  0.224828 -0.185927\n",
       "2017-10-08  1.126686  0.895575  0.224828 -0.185927"
      ]
     },
     "execution_count": 40,
     "metadata": {},
     "output_type": "execute_result"
    }
   ],
   "source": [
    "tf.resample('D').bfill()"
   ]
  },
  {
   "cell_type": "markdown",
   "metadata": {},
   "source": [
    "## 读取为时间序列"
   ]
  },
  {
   "cell_type": "code",
   "execution_count": 45,
   "metadata": {},
   "outputs": [],
   "source": [
    "data=pd.read_csv('C:\\\\Users\\\\chen jia ni\\\\Desktop\\\\wangyipy\\\\shujuji\\\\air1908.csv',index_col='Date',parse_dates=True)#注意index_col"
   ]
  },
  {
   "cell_type": "code",
   "execution_count": 47,
   "metadata": {},
   "outputs": [
    {
     "data": {
      "text/html": [
       "<div>\n",
       "<style scoped>\n",
       "    .dataframe tbody tr th:only-of-type {\n",
       "        vertical-align: middle;\n",
       "    }\n",
       "\n",
       "    .dataframe tbody tr th {\n",
       "        vertical-align: top;\n",
       "    }\n",
       "\n",
       "    .dataframe thead th {\n",
       "        text-align: right;\n",
       "    }\n",
       "</style>\n",
       "<table border=\"1\" class=\"dataframe\">\n",
       "  <thead>\n",
       "    <tr style=\"text-align: right;\">\n",
       "      <th></th>\n",
       "      <th>Time</th>\n",
       "      <th>Location</th>\n",
       "      <th>Operator</th>\n",
       "      <th>Flight #</th>\n",
       "      <th>Route</th>\n",
       "      <th>Type</th>\n",
       "      <th>Registration</th>\n",
       "      <th>cn/In</th>\n",
       "      <th>Aboard</th>\n",
       "      <th>Fatalities</th>\n",
       "      <th>Ground</th>\n",
       "      <th>Summary</th>\n",
       "    </tr>\n",
       "    <tr>\n",
       "      <th>Date</th>\n",
       "      <th></th>\n",
       "      <th></th>\n",
       "      <th></th>\n",
       "      <th></th>\n",
       "      <th></th>\n",
       "      <th></th>\n",
       "      <th></th>\n",
       "      <th></th>\n",
       "      <th></th>\n",
       "      <th></th>\n",
       "      <th></th>\n",
       "      <th></th>\n",
       "    </tr>\n",
       "  </thead>\n",
       "  <tbody>\n",
       "    <tr>\n",
       "      <th>1908-09-17</th>\n",
       "      <td>17:18</td>\n",
       "      <td>Fort Myer, Virginia</td>\n",
       "      <td>Military - U.S. Army</td>\n",
       "      <td>NaN</td>\n",
       "      <td>Demonstration</td>\n",
       "      <td>Wright Flyer III</td>\n",
       "      <td>NaN</td>\n",
       "      <td>1</td>\n",
       "      <td>2.0</td>\n",
       "      <td>1.0</td>\n",
       "      <td>0.0</td>\n",
       "      <td>During a demonstration flight, a U.S. Army fly...</td>\n",
       "    </tr>\n",
       "    <tr>\n",
       "      <th>1912-07-12</th>\n",
       "      <td>06:30</td>\n",
       "      <td>AtlantiCity, New Jersey</td>\n",
       "      <td>Military - U.S. Navy</td>\n",
       "      <td>NaN</td>\n",
       "      <td>Test flight</td>\n",
       "      <td>Dirigible</td>\n",
       "      <td>NaN</td>\n",
       "      <td>NaN</td>\n",
       "      <td>5.0</td>\n",
       "      <td>5.0</td>\n",
       "      <td>0.0</td>\n",
       "      <td>First U.S. dirigible Akron exploded just offsh...</td>\n",
       "    </tr>\n",
       "    <tr>\n",
       "      <th>1913-08-06</th>\n",
       "      <td>NaN</td>\n",
       "      <td>Victoria, British Columbia, Canada</td>\n",
       "      <td>Private</td>\n",
       "      <td>-</td>\n",
       "      <td>NaN</td>\n",
       "      <td>Curtiss seaplane</td>\n",
       "      <td>NaN</td>\n",
       "      <td>NaN</td>\n",
       "      <td>1.0</td>\n",
       "      <td>1.0</td>\n",
       "      <td>0.0</td>\n",
       "      <td>The first fatal airplane accident in Canada oc...</td>\n",
       "    </tr>\n",
       "    <tr>\n",
       "      <th>1913-09-09</th>\n",
       "      <td>18:30</td>\n",
       "      <td>Over the North Sea</td>\n",
       "      <td>Military - German Navy</td>\n",
       "      <td>NaN</td>\n",
       "      <td>NaN</td>\n",
       "      <td>Zeppelin L-1 (airship)</td>\n",
       "      <td>NaN</td>\n",
       "      <td>NaN</td>\n",
       "      <td>20.0</td>\n",
       "      <td>14.0</td>\n",
       "      <td>0.0</td>\n",
       "      <td>The airship flew into a thunderstorm and encou...</td>\n",
       "    </tr>\n",
       "    <tr>\n",
       "      <th>1913-10-17</th>\n",
       "      <td>10:30</td>\n",
       "      <td>Near Johannisthal, Germany</td>\n",
       "      <td>Military - German Navy</td>\n",
       "      <td>NaN</td>\n",
       "      <td>NaN</td>\n",
       "      <td>Zeppelin L-2 (airship)</td>\n",
       "      <td>NaN</td>\n",
       "      <td>NaN</td>\n",
       "      <td>30.0</td>\n",
       "      <td>30.0</td>\n",
       "      <td>0.0</td>\n",
       "      <td>Hydrogen gas which was being vented was sucked...</td>\n",
       "    </tr>\n",
       "  </tbody>\n",
       "</table>\n",
       "</div>"
      ],
      "text/plain": [
       "             Time                            Location                Operator  \\\n",
       "Date                                                                            \n",
       "1908-09-17  17:18                 Fort Myer, Virginia    Military - U.S. Army   \n",
       "1912-07-12  06:30             AtlantiCity, New Jersey    Military - U.S. Navy   \n",
       "1913-08-06    NaN  Victoria, British Columbia, Canada                 Private   \n",
       "1913-09-09  18:30                  Over the North Sea  Military - German Navy   \n",
       "1913-10-17  10:30          Near Johannisthal, Germany  Military - German Navy   \n",
       "\n",
       "           Flight #          Route                    Type Registration cn/In  \\\n",
       "Date                                                                            \n",
       "1908-09-17      NaN  Demonstration        Wright Flyer III          NaN     1   \n",
       "1912-07-12      NaN    Test flight               Dirigible          NaN   NaN   \n",
       "1913-08-06        -            NaN        Curtiss seaplane          NaN   NaN   \n",
       "1913-09-09      NaN            NaN  Zeppelin L-1 (airship)          NaN   NaN   \n",
       "1913-10-17      NaN            NaN  Zeppelin L-2 (airship)          NaN   NaN   \n",
       "\n",
       "            Aboard  Fatalities  Ground  \\\n",
       "Date                                     \n",
       "1908-09-17     2.0         1.0     0.0   \n",
       "1912-07-12     5.0         5.0     0.0   \n",
       "1913-08-06     1.0         1.0     0.0   \n",
       "1913-09-09    20.0        14.0     0.0   \n",
       "1913-10-17    30.0        30.0     0.0   \n",
       "\n",
       "                                                      Summary  \n",
       "Date                                                           \n",
       "1908-09-17  During a demonstration flight, a U.S. Army fly...  \n",
       "1912-07-12  First U.S. dirigible Akron exploded just offsh...  \n",
       "1913-08-06  The first fatal airplane accident in Canada oc...  \n",
       "1913-09-09  The airship flew into a thunderstorm and encou...  \n",
       "1913-10-17  Hydrogen gas which was being vented was sucked...  "
      ]
     },
     "execution_count": 47,
     "metadata": {},
     "output_type": "execute_result"
    }
   ],
   "source": [
    "data.head()"
   ]
  },
  {
   "cell_type": "code",
   "execution_count": 48,
   "metadata": {},
   "outputs": [
    {
     "data": {
      "text/plain": [
       "Date\n",
       "1908-12-31       1.0\n",
       "1909-12-31       NaN\n",
       "1910-12-31       NaN\n",
       "1911-12-31       NaN\n",
       "1912-12-31       5.0\n",
       "1913-12-31      45.0\n",
       "1914-12-31       NaN\n",
       "1915-12-31      40.0\n",
       "1916-12-31     108.0\n",
       "1917-12-31     124.0\n",
       "1918-12-31      65.0\n",
       "1919-12-31       5.0\n",
       "1920-12-31      24.0\n",
       "1921-12-31      68.0\n",
       "1922-12-31      80.0\n",
       "1923-12-31      77.0\n",
       "1924-12-31      18.0\n",
       "1925-12-31      39.0\n",
       "1926-12-31      30.0\n",
       "1927-12-31      54.0\n",
       "1928-12-31     124.0\n",
       "1929-12-31     119.0\n",
       "1930-12-31     138.0\n",
       "1931-12-31      94.0\n",
       "1932-12-31      75.0\n",
       "1933-12-31     192.0\n",
       "1934-12-31     126.0\n",
       "1935-12-31     226.0\n",
       "1936-12-31     227.0\n",
       "1937-12-31     203.0\n",
       "               ...  \n",
       "1980-12-31    1827.0\n",
       "1981-12-31    1230.0\n",
       "1982-12-31    1787.0\n",
       "1983-12-31    1611.0\n",
       "1984-12-31    1228.0\n",
       "1985-12-31    2670.0\n",
       "1986-12-31    1471.0\n",
       "1987-12-31    1713.0\n",
       "1988-12-31    2034.0\n",
       "1989-12-31    2293.0\n",
       "1990-12-31    1312.0\n",
       "1991-12-31    1839.0\n",
       "1992-12-31    2122.0\n",
       "1993-12-31    1568.0\n",
       "1994-12-31    1876.0\n",
       "1995-12-31    1593.0\n",
       "1996-12-31    2386.0\n",
       "1997-12-31    1673.0\n",
       "1998-12-31    1544.0\n",
       "1999-12-31     970.0\n",
       "2000-12-31    1429.0\n",
       "2001-12-31    1398.0\n",
       "2002-12-31    1437.0\n",
       "2003-12-31    1276.0\n",
       "2004-12-31     728.0\n",
       "2005-12-31    1306.0\n",
       "2006-12-31    1136.0\n",
       "2007-12-31     931.0\n",
       "2008-12-31     820.0\n",
       "2009-12-31     581.0\n",
       "Freq: A-DEC, Name: Fatalities, Length: 102, dtype: float64"
      ]
     },
     "execution_count": 48,
     "metadata": {},
     "output_type": "execute_result"
    }
   ],
   "source": [
    "data.Fatalities.resample('A').sum()#‘A’按年计"
   ]
  }
 ],
 "metadata": {
  "kernelspec": {
   "display_name": "Python 3",
   "language": "python",
   "name": "python3"
  },
  "language_info": {
   "codemirror_mode": {
    "name": "ipython",
    "version": 3
   },
   "file_extension": ".py",
   "mimetype": "text/x-python",
   "name": "python",
   "nbconvert_exporter": "python",
   "pygments_lexer": "ipython3",
   "version": "3.6.3"
  }
 },
 "nbformat": 4,
 "nbformat_minor": 2
}
