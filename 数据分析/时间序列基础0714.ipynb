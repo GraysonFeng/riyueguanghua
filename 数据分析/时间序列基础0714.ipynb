{
 "cells": [
  {
   "cell_type": "markdown",
   "metadata": {},
   "source": [
    "pandas可以高效地处理非常大的时间序列"
   ]
  },
  {
   "cell_type": "markdown",
   "metadata": {},
   "source": [
    "标准库中的datatime模块"
   ]
  },
  {
   "cell_type": "code",
   "execution_count": 19,
   "metadata": {},
   "outputs": [],
   "source": [
    "from datetime import datetime\n",
    "import pandas as pd\n",
    "import numpy as np"
   ]
  },
  {
   "cell_type": "code",
   "execution_count": 21,
   "metadata": {},
   "outputs": [
    {
     "data": {
      "text/plain": [
       "datetime.datetime(2018, 7, 14, 17, 25, 30, 741316)"
      ]
     },
     "execution_count": 21,
     "metadata": {},
     "output_type": "execute_result"
    }
   ],
   "source": [
    "now=datetime.now()\n",
    "now#现在的时间"
   ]
  },
  {
   "cell_type": "code",
   "execution_count": 22,
   "metadata": {},
   "outputs": [
    {
     "data": {
      "text/plain": [
       "2018"
      ]
     },
     "execution_count": 22,
     "metadata": {},
     "output_type": "execute_result"
    }
   ],
   "source": [
    "now.year"
   ]
  },
  {
   "cell_type": "code",
   "execution_count": 23,
   "metadata": {},
   "outputs": [
    {
     "data": {
      "text/plain": [
       "7"
      ]
     },
     "execution_count": 23,
     "metadata": {},
     "output_type": "execute_result"
    }
   ],
   "source": [
    "now.month"
   ]
  },
  {
   "cell_type": "code",
   "execution_count": 24,
   "metadata": {},
   "outputs": [
    {
     "data": {
      "text/plain": [
       "(2018, 7, 14)"
      ]
     },
     "execution_count": 24,
     "metadata": {},
     "output_type": "execute_result"
    }
   ],
   "source": [
    "now.year,now.month,now.day"
   ]
  },
  {
   "cell_type": "code",
   "execution_count": 25,
   "metadata": {},
   "outputs": [],
   "source": [
    "delta=datetime(2018,7,14)-datetime(2018,7,1)#时差，精确到天"
   ]
  },
  {
   "cell_type": "code",
   "execution_count": 26,
   "metadata": {},
   "outputs": [
    {
     "data": {
      "text/plain": [
       "datetime.timedelta(13)"
      ]
     },
     "execution_count": 26,
     "metadata": {},
     "output_type": "execute_result"
    }
   ],
   "source": [
    "delta#根据上面的"
   ]
  },
  {
   "cell_type": "code",
   "execution_count": 27,
   "metadata": {},
   "outputs": [
    {
     "data": {
      "text/plain": [
       "13"
      ]
     },
     "execution_count": 27,
     "metadata": {},
     "output_type": "execute_result"
    }
   ],
   "source": [
    "delta.days"
   ]
  },
  {
   "cell_type": "code",
   "execution_count": 28,
   "metadata": {},
   "outputs": [
    {
     "data": {
      "text/plain": [
       "0"
      ]
     },
     "execution_count": 28,
     "metadata": {},
     "output_type": "execute_result"
    }
   ],
   "source": [
    "delta.seconds"
   ]
  },
  {
   "cell_type": "code",
   "execution_count": 29,
   "metadata": {},
   "outputs": [],
   "source": [
    "delta=datetime(2018,7,14)-datetime(2018,7,1,13,25,5)"
   ]
  },
  {
   "cell_type": "code",
   "execution_count": 30,
   "metadata": {},
   "outputs": [
    {
     "data": {
      "text/plain": [
       "datetime.timedelta(12, 38095)"
      ]
     },
     "execution_count": 30,
     "metadata": {},
     "output_type": "execute_result"
    }
   ],
   "source": [
    "delta"
   ]
  },
  {
   "cell_type": "code",
   "execution_count": 31,
   "metadata": {},
   "outputs": [
    {
     "data": {
      "text/plain": [
       "12"
      ]
     },
     "execution_count": 31,
     "metadata": {},
     "output_type": "execute_result"
    }
   ],
   "source": [
    "delta.days"
   ]
  },
  {
   "cell_type": "code",
   "execution_count": 34,
   "metadata": {},
   "outputs": [
    {
     "data": {
      "text/plain": [
       "38095"
      ]
     },
     "execution_count": 34,
     "metadata": {},
     "output_type": "execute_result"
    }
   ],
   "source": [
    "delta.seconds"
   ]
  },
  {
   "cell_type": "code",
   "execution_count": 37,
   "metadata": {},
   "outputs": [],
   "source": [
    "from datetime import timedelta"
   ]
  },
  {
   "cell_type": "code",
   "execution_count": 41,
   "metadata": {},
   "outputs": [],
   "source": [
    "start = datetime(2017,8,24,10,58,20) + timedelta(38)#timedelta默认单位为天"
   ]
  },
  {
   "cell_type": "code",
   "execution_count": 42,
   "metadata": {},
   "outputs": [
    {
     "data": {
      "text/plain": [
       "datetime.datetime(2017, 10, 1, 10, 58, 20)"
      ]
     },
     "execution_count": 42,
     "metadata": {},
     "output_type": "execute_result"
    }
   ],
   "source": [
    "start"
   ]
  },
  {
   "cell_type": "code",
   "execution_count": 45,
   "metadata": {},
   "outputs": [],
   "source": [
    "theday=datetime(2018,7,14)#月和日前不用0,默认0点0时0分"
   ]
  },
  {
   "cell_type": "code",
   "execution_count": 46,
   "metadata": {},
   "outputs": [
    {
     "data": {
      "text/plain": [
       "'2018-07-14 00:00:00'"
      ]
     },
     "execution_count": 46,
     "metadata": {},
     "output_type": "execute_result"
    }
   ],
   "source": [
    "str(theday)#"
   ]
  },
  {
   "cell_type": "code",
   "execution_count": 47,
   "metadata": {},
   "outputs": [],
   "source": [
    "a=theday.strftime('%Y-%m-%d')#转换为字符串格式"
   ]
  },
  {
   "cell_type": "code",
   "execution_count": 48,
   "metadata": {},
   "outputs": [
    {
     "data": {
      "text/plain": [
       "'2018-07-14'"
      ]
     },
     "execution_count": 48,
     "metadata": {},
     "output_type": "execute_result"
    }
   ],
   "source": [
    "a"
   ]
  },
  {
   "cell_type": "code",
   "execution_count": 49,
   "metadata": {},
   "outputs": [],
   "source": [
    "a=theday.strftime('%Y/%m/%d')"
   ]
  },
  {
   "cell_type": "code",
   "execution_count": 50,
   "metadata": {},
   "outputs": [
    {
     "data": {
      "text/plain": [
       "'2018/07/14'"
      ]
     },
     "execution_count": 50,
     "metadata": {},
     "output_type": "execute_result"
    }
   ],
   "source": [
    "a"
   ]
  },
  {
   "cell_type": "code",
   "execution_count": 51,
   "metadata": {},
   "outputs": [
    {
     "ename": "ValueError",
     "evalue": "time data '2018/07/14' does not match format '%Y-%m-%d'",
     "output_type": "error",
     "traceback": [
      "\u001b[1;31m---------------------------------------------------------------------------\u001b[0m",
      "\u001b[1;31mValueError\u001b[0m                                Traceback (most recent call last)",
      "\u001b[1;32m<ipython-input-51-b62494e75a51>\u001b[0m in \u001b[0;36m<module>\u001b[1;34m()\u001b[0m\n\u001b[1;32m----> 1\u001b[1;33m \u001b[0mdatetime\u001b[0m\u001b[1;33m.\u001b[0m\u001b[0mstrptime\u001b[0m\u001b[1;33m(\u001b[0m\u001b[0ma\u001b[0m\u001b[1;33m,\u001b[0m\u001b[1;34m'%Y-%m-%d'\u001b[0m\u001b[1;33m)\u001b[0m\u001b[1;33m\u001b[0m\u001b[0m\n\u001b[0m",
      "\u001b[1;32m~\\Anaconda3\\lib\\_strptime.py\u001b[0m in \u001b[0;36m_strptime_datetime\u001b[1;34m(cls, data_string, format)\u001b[0m\n\u001b[0;32m    563\u001b[0m     \"\"\"Return a class cls instance based on the input string and the\n\u001b[0;32m    564\u001b[0m     format string.\"\"\"\n\u001b[1;32m--> 565\u001b[1;33m     \u001b[0mtt\u001b[0m\u001b[1;33m,\u001b[0m \u001b[0mfraction\u001b[0m \u001b[1;33m=\u001b[0m \u001b[0m_strptime\u001b[0m\u001b[1;33m(\u001b[0m\u001b[0mdata_string\u001b[0m\u001b[1;33m,\u001b[0m \u001b[0mformat\u001b[0m\u001b[1;33m)\u001b[0m\u001b[1;33m\u001b[0m\u001b[0m\n\u001b[0m\u001b[0;32m    566\u001b[0m     \u001b[0mtzname\u001b[0m\u001b[1;33m,\u001b[0m \u001b[0mgmtoff\u001b[0m \u001b[1;33m=\u001b[0m \u001b[0mtt\u001b[0m\u001b[1;33m[\u001b[0m\u001b[1;33m-\u001b[0m\u001b[1;36m2\u001b[0m\u001b[1;33m:\u001b[0m\u001b[1;33m]\u001b[0m\u001b[1;33m\u001b[0m\u001b[0m\n\u001b[0;32m    567\u001b[0m     \u001b[0margs\u001b[0m \u001b[1;33m=\u001b[0m \u001b[0mtt\u001b[0m\u001b[1;33m[\u001b[0m\u001b[1;33m:\u001b[0m\u001b[1;36m6\u001b[0m\u001b[1;33m]\u001b[0m \u001b[1;33m+\u001b[0m \u001b[1;33m(\u001b[0m\u001b[0mfraction\u001b[0m\u001b[1;33m,\u001b[0m\u001b[1;33m)\u001b[0m\u001b[1;33m\u001b[0m\u001b[0m\n",
      "\u001b[1;32m~\\Anaconda3\\lib\\_strptime.py\u001b[0m in \u001b[0;36m_strptime\u001b[1;34m(data_string, format)\u001b[0m\n\u001b[0;32m    360\u001b[0m     \u001b[1;32mif\u001b[0m \u001b[1;32mnot\u001b[0m \u001b[0mfound\u001b[0m\u001b[1;33m:\u001b[0m\u001b[1;33m\u001b[0m\u001b[0m\n\u001b[0;32m    361\u001b[0m         raise ValueError(\"time data %r does not match format %r\" %\n\u001b[1;32m--> 362\u001b[1;33m                          (data_string, format))\n\u001b[0m\u001b[0;32m    363\u001b[0m     \u001b[1;32mif\u001b[0m \u001b[0mlen\u001b[0m\u001b[1;33m(\u001b[0m\u001b[0mdata_string\u001b[0m\u001b[1;33m)\u001b[0m \u001b[1;33m!=\u001b[0m \u001b[0mfound\u001b[0m\u001b[1;33m.\u001b[0m\u001b[0mend\u001b[0m\u001b[1;33m(\u001b[0m\u001b[1;33m)\u001b[0m\u001b[1;33m:\u001b[0m\u001b[1;33m\u001b[0m\u001b[0m\n\u001b[0;32m    364\u001b[0m         raise ValueError(\"unconverted data remains: %s\" %\n",
      "\u001b[1;31mValueError\u001b[0m: time data '2018/07/14' does not match format '%Y-%m-%d'"
     ]
    }
   ],
   "source": [
    "datetime.strptime(a,'%Y-%m-%d')#strptime 转换为时间格式"
   ]
  },
  {
   "cell_type": "code",
   "execution_count": 68,
   "metadata": {},
   "outputs": [
    {
     "data": {
      "text/plain": [
       "datetime.datetime(2018, 7, 14, 0, 0)"
      ]
     },
     "execution_count": 68,
     "metadata": {},
     "output_type": "execute_result"
    }
   ],
   "source": [
    "datetime.strptime(a,'%Y/%m/%d')#转换为时间格式,必须指出字符串的格式，strptime才好解析"
   ]
  },
  {
   "cell_type": "markdown",
   "metadata": {},
   "source": [
    "pandas可以用to_datetime解析日期"
   ]
  },
  {
   "cell_type": "code",
   "execution_count": 56,
   "metadata": {},
   "outputs": [
    {
     "data": {
      "text/plain": [
       "Timestamp('2018-07-14 00:00:00')"
      ]
     },
     "execution_count": 56,
     "metadata": {},
     "output_type": "execute_result"
    }
   ],
   "source": [
    "pd.to_datetime('2018/7/14')#pd.to_datetime转换为时间戳"
   ]
  },
  {
   "cell_type": "code",
   "execution_count": 57,
   "metadata": {},
   "outputs": [
    {
     "data": {
      "text/plain": [
       "DatetimeIndex(['2018-07-01', '2018-07-14'], dtype='datetime64[ns]', freq=None)"
      ]
     },
     "execution_count": 57,
     "metadata": {},
     "output_type": "execute_result"
    }
   ],
   "source": [
    "pd.to_datetime(['2018-07-01','2018-07-14'])#freq频次"
   ]
  },
  {
   "cell_type": "code",
   "execution_count": 58,
   "metadata": {},
   "outputs": [
    {
     "data": {
      "text/plain": [
       "Timestamp('2018-01-10 00:00:00')"
      ]
     },
     "execution_count": 58,
     "metadata": {},
     "output_type": "execute_result"
    }
   ],
   "source": [
    "pd.to_datetime('1-10-2018')#默认月-日-年"
   ]
  },
  {
   "cell_type": "code",
   "execution_count": 59,
   "metadata": {},
   "outputs": [
    {
     "data": {
      "text/plain": [
       "Timestamp('2017-02-08 00:00:00')"
      ]
     },
     "execution_count": 59,
     "metadata": {},
     "output_type": "execute_result"
    }
   ],
   "source": [
    "pd.to_datetime('02/08/2017')#pd.to_datetime字符串转换为时间戳"
   ]
  },
  {
   "cell_type": "code",
   "execution_count": 61,
   "metadata": {},
   "outputs": [
    {
     "data": {
      "text/plain": [
       "Timestamp('2018-08-02 00:00:00')"
      ]
     },
     "execution_count": 61,
     "metadata": {},
     "output_type": "execute_result"
    }
   ],
   "source": [
    "pd.to_datetime('02-08-2018',dayfirst=True)"
   ]
  },
  {
   "cell_type": "markdown",
   "metadata": {},
   "source": [
    "如何生成Datetimeindex"
   ]
  },
  {
   "cell_type": "code",
   "execution_count": 63,
   "metadata": {},
   "outputs": [],
   "source": [
    "index=pd.date_range('2018/7/1','2018/7/14')#date_range时间范围"
   ]
  },
  {
   "cell_type": "code",
   "execution_count": 64,
   "metadata": {},
   "outputs": [
    {
     "data": {
      "text/plain": [
       "DatetimeIndex(['2018-07-01', '2018-07-02', '2018-07-03', '2018-07-04',\n",
       "               '2018-07-05', '2018-07-06', '2018-07-07', '2018-07-08',\n",
       "               '2018-07-09', '2018-07-10', '2018-07-11', '2018-07-12',\n",
       "               '2018-07-13', '2018-07-14'],\n",
       "              dtype='datetime64[ns]', freq='D')"
      ]
     },
     "execution_count": 64,
     "metadata": {},
     "output_type": "execute_result"
    }
   ],
   "source": [
    "index"
   ]
  },
  {
   "cell_type": "code",
   "execution_count": 82,
   "metadata": {},
   "outputs": [
    {
     "data": {
      "text/plain": [
       "DatetimeIndex(['2018-01-30', '2018-01-31', '2018-02-01', '2018-02-02',\n",
       "               '2018-02-03', '2018-02-04', '2018-02-05', '2018-02-06',\n",
       "               '2018-02-07', '2018-02-08', '2018-02-09', '2018-02-10',\n",
       "               '2018-02-11', '2018-02-12', '2018-02-13', '2018-02-14',\n",
       "               '2018-02-15', '2018-02-16', '2018-02-17', '2018-02-18',\n",
       "               '2018-02-19', '2018-02-20', '2018-02-21', '2018-02-22',\n",
       "               '2018-02-23', '2018-02-24', '2018-02-25', '2018-02-26',\n",
       "               '2018-02-27', '2018-02-28'],\n",
       "              dtype='datetime64[ns]', freq='D')"
      ]
     },
     "execution_count": 82,
     "metadata": {},
     "output_type": "execute_result"
    }
   ],
   "source": [
    "pd.date_range(start='2018/1/30',periods=30)#"
   ]
  },
  {
   "cell_type": "markdown",
   "metadata": {},
   "source": [
    "** 常用频率与日期偏移量 **"
   ]
  },
  {
   "cell_type": "code",
   "execution_count": 73,
   "metadata": {},
   "outputs": [],
   "source": [
    "index=pd.date_range('2018-07-01','2018-12-1',freq='BM')#每月最后一个工作日"
   ]
  },
  {
   "cell_type": "code",
   "execution_count": 74,
   "metadata": {},
   "outputs": [
    {
     "data": {
      "text/plain": [
       "DatetimeIndex(['2018-07-31', '2018-08-31', '2018-09-28', '2018-10-31',\n",
       "               '2018-11-30'],\n",
       "              dtype='datetime64[ns]', freq='BM')"
      ]
     },
     "execution_count": 74,
     "metadata": {},
     "output_type": "execute_result"
    }
   ],
   "source": [
    "index #频率可以字符串别名3H,2D,2M,32T等等"
   ]
  },
  {
   "cell_type": "code",
   "execution_count": 75,
   "metadata": {},
   "outputs": [],
   "source": [
    "index=pd.date_range('2018-7-1','2018-12-01',freq='BM')-timedelta(3)"
   ]
  },
  {
   "cell_type": "code",
   "execution_count": 76,
   "metadata": {},
   "outputs": [
    {
     "data": {
      "text/plain": [
       "DatetimeIndex(['2018-07-28', '2018-08-28', '2018-09-25', '2018-10-28',\n",
       "               '2018-11-27'],\n",
       "              dtype='datetime64[ns]', freq=None)"
      ]
     },
     "execution_count": 76,
     "metadata": {},
     "output_type": "execute_result"
    }
   ],
   "source": [
    "index"
   ]
  },
  {
   "cell_type": "code",
   "execution_count": 77,
   "metadata": {},
   "outputs": [],
   "source": [
    "index=pd.date_range('01/08/2018','07/08/2018',freq='BM')-timedelta(4,3600*20)"
   ]
  },
  {
   "cell_type": "code",
   "execution_count": 78,
   "metadata": {},
   "outputs": [
    {
     "data": {
      "text/plain": [
       "DatetimeIndex(['2018-01-26 04:00:00', '2018-02-23 04:00:00',\n",
       "               '2018-03-25 04:00:00', '2018-04-25 04:00:00',\n",
       "               '2018-05-26 04:00:00', '2018-06-24 04:00:00'],\n",
       "              dtype='datetime64[ns]', freq=None)"
      ]
     },
     "execution_count": 78,
     "metadata": {},
     "output_type": "execute_result"
    }
   ],
   "source": [
    "index"
   ]
  },
  {
   "cell_type": "code",
   "execution_count": 84,
   "metadata": {},
   "outputs": [
    {
     "data": {
      "text/plain": [
       "DatetimeIndex(['2018-11-01', '2018-11-02', '2018-11-03', '2018-11-04',\n",
       "               '2018-11-05'],\n",
       "              dtype='datetime64[ns]', freq='D')"
      ]
     },
     "execution_count": 84,
     "metadata": {},
     "output_type": "execute_result"
    }
   ],
   "source": [
    "index = pd.date_range('11/1/2018 12:30:30',periods = 5,normalize = True)\n",
    "index"
   ]
  },
  {
   "cell_type": "code",
   "execution_count": 83,
   "metadata": {},
   "outputs": [
    {
     "data": {
      "text/plain": [
       "DatetimeIndex(['2017-10-01 00:00:00', '2017-10-01 00:00:01',\n",
       "               '2017-10-01 00:00:02', '2017-10-01 00:00:03',\n",
       "               '2017-10-01 00:00:04'],\n",
       "              dtype='datetime64[ns]', freq='S')"
      ]
     },
     "execution_count": 83,
     "metadata": {},
     "output_type": "execute_result"
    }
   ],
   "source": [
    "index = pd.date_range('10/1/2017 12:30:30',periods = 5,normalize = True,freq='s')#周期默认是以freq=‘s’为单位的，normalize正则到午夜12点\n",
    "index"
   ]
  },
  {
   "cell_type": "code",
   "execution_count": 87,
   "metadata": {},
   "outputs": [],
   "source": [
    "index=pd.date_range('11/1/2018 12:30',periods=5,freq='d')"
   ]
  },
  {
   "cell_type": "code",
   "execution_count": 88,
   "metadata": {},
   "outputs": [
    {
     "data": {
      "text/plain": [
       "DatetimeIndex(['2018-11-01 12:30:00', '2018-11-02 12:30:00',\n",
       "               '2018-11-03 12:30:00', '2018-11-04 12:30:00',\n",
       "               '2018-11-05 12:30:00'],\n",
       "              dtype='datetime64[ns]', freq='D')"
      ]
     },
     "execution_count": 88,
     "metadata": {},
     "output_type": "execute_result"
    }
   ],
   "source": [
    "index"
   ]
  },
  {
   "cell_type": "code",
   "execution_count": 89,
   "metadata": {},
   "outputs": [],
   "source": [
    "ts=pd.Series(np.random.randn(8),index=pd.date_range('10/01/2018',periods=8))"
   ]
  },
  {
   "cell_type": "code",
   "execution_count": 90,
   "metadata": {},
   "outputs": [
    {
     "data": {
      "text/plain": [
       "2018-10-01   -0.260924\n",
       "2018-10-02   -0.511600\n",
       "2018-10-03   -0.228861\n",
       "2018-10-04    1.225031\n",
       "2018-10-05    0.750274\n",
       "2018-10-06   -0.212480\n",
       "2018-10-07    0.489630\n",
       "2018-10-08   -0.558242\n",
       "Freq: D, dtype: float64"
      ]
     },
     "execution_count": 90,
     "metadata": {},
     "output_type": "execute_result"
    }
   ],
   "source": [
    "ts"
   ]
  },
  {
   "cell_type": "code",
   "execution_count": 91,
   "metadata": {},
   "outputs": [
    {
     "data": {
      "text/plain": [
       "(2018-10-01   -0.260924\n",
       " 2018-10-02   -0.511600\n",
       " 2018-10-03   -0.228861\n",
       " 2018-10-04    1.225031\n",
       " 2018-10-05    0.750274\n",
       " 2018-10-06   -0.212480\n",
       " 2018-10-07    0.489630\n",
       " 2018-10-08   -0.558242\n",
       " Freq: D, dtype: float64, pandas.core.series.Series)"
      ]
     },
     "execution_count": 91,
     "metadata": {},
     "output_type": "execute_result"
    }
   ],
   "source": [
    "ts,type(ts)"
   ]
  },
  {
   "cell_type": "code",
   "execution_count": 92,
   "metadata": {},
   "outputs": [
    {
     "data": {
      "text/plain": [
       "DatetimeIndex(['2018-10-01', '2018-10-02', '2018-10-03', '2018-10-04',\n",
       "               '2018-10-05', '2018-10-06', '2018-10-07', '2018-10-08'],\n",
       "              dtype='datetime64[ns]', freq='D')"
      ]
     },
     "execution_count": 92,
     "metadata": {},
     "output_type": "execute_result"
    }
   ],
   "source": [
    "ts.index"
   ]
  },
  {
   "cell_type": "code",
   "execution_count": 93,
   "metadata": {},
   "outputs": [
    {
     "data": {
      "text/plain": [
       "2018-10-01   -0.521847\n",
       "2018-10-02         NaN\n",
       "2018-10-03   -0.457723\n",
       "2018-10-04         NaN\n",
       "2018-10-05    1.500549\n",
       "2018-10-06         NaN\n",
       "2018-10-07    0.979260\n",
       "2018-10-08         NaN\n",
       "dtype: float64"
      ]
     },
     "execution_count": 93,
     "metadata": {},
     "output_type": "execute_result"
    }
   ],
   "source": [
    "ts+ts[::2]"
   ]
  },
  {
   "cell_type": "code",
   "execution_count": 96,
   "metadata": {},
   "outputs": [
    {
     "data": {
      "text/plain": [
       "2018-10-01   -0.260924\n",
       "2018-10-03   -0.228861\n",
       "2018-10-05    0.750274\n",
       "2018-10-07    0.489630\n",
       "Freq: 2D, dtype: float64"
      ]
     },
     "execution_count": 96,
     "metadata": {},
     "output_type": "execute_result"
    }
   ],
   "source": [
    "ts[::2]#Series，每两个索引取一个，取第一个索引"
   ]
  },
  {
   "cell_type": "code",
   "execution_count": 97,
   "metadata": {},
   "outputs": [
    {
     "data": {
      "text/plain": [
       "2018-10-01   -0.260924\n",
       "2018-10-02   -0.511600\n",
       "2018-10-03   -0.228861\n",
       "Freq: D, dtype: float64"
      ]
     },
     "execution_count": 97,
     "metadata": {},
     "output_type": "execute_result"
    }
   ],
   "source": [
    "ts[:3:]"
   ]
  },
  {
   "cell_type": "code",
   "execution_count": 100,
   "metadata": {},
   "outputs": [
    {
     "data": {
      "text/plain": [
       "2018-10-03   -0.228861\n",
       "Freq: 3D, dtype: float64"
      ]
     },
     "execution_count": 100,
     "metadata": {},
     "output_type": "execute_result"
    }
   ],
   "source": [
    "ts[2:5:3]"
   ]
  },
  {
   "cell_type": "markdown",
   "metadata": {},
   "source": [
    "时间序列的切片、索引"
   ]
  },
  {
   "cell_type": "code",
   "execution_count": 103,
   "metadata": {},
   "outputs": [],
   "source": [
    "ts=pd.Series(np.random.randn(1000),index=pd.date_range('10/1/2018',periods=1000))"
   ]
  },
  {
   "cell_type": "code",
   "execution_count": 104,
   "metadata": {},
   "outputs": [
    {
     "data": {
      "text/plain": [
       "2018-10-01    0.795541\n",
       "2018-10-02   -0.179710\n",
       "2018-10-03   -1.032228\n",
       "2018-10-04    0.288268\n",
       "2018-10-05    0.826815\n",
       "2018-10-06    0.281637\n",
       "2018-10-07    0.514758\n",
       "2018-10-08    1.060805\n",
       "2018-10-09    0.366000\n",
       "2018-10-10    1.112032\n",
       "2018-10-11   -1.044007\n",
       "2018-10-12   -0.075687\n",
       "2018-10-13   -1.240588\n",
       "2018-10-14   -0.729614\n",
       "2018-10-15   -1.511522\n",
       "2018-10-16   -1.024361\n",
       "2018-10-17   -0.688932\n",
       "2018-10-18    0.096456\n",
       "2018-10-19   -2.033716\n",
       "2018-10-20   -1.351723\n",
       "2018-10-21   -0.597685\n",
       "2018-10-22   -0.280808\n",
       "2018-10-23    0.659348\n",
       "2018-10-24    0.374153\n",
       "2018-10-25   -0.062662\n",
       "2018-10-26    0.153080\n",
       "2018-10-27    0.813034\n",
       "2018-10-28    0.471169\n",
       "2018-10-29   -2.258879\n",
       "2018-10-30   -0.256972\n",
       "                ...   \n",
       "2021-05-28    1.233664\n",
       "2021-05-29    1.075335\n",
       "2021-05-30    0.413215\n",
       "2021-05-31    0.311073\n",
       "2021-06-01    0.057178\n",
       "2021-06-02   -0.831405\n",
       "2021-06-03    0.137252\n",
       "2021-06-04   -0.051932\n",
       "2021-06-05   -1.656669\n",
       "2021-06-06   -1.264758\n",
       "2021-06-07   -0.120010\n",
       "2021-06-08   -0.458125\n",
       "2021-06-09    0.046755\n",
       "2021-06-10   -0.989914\n",
       "2021-06-11    0.039249\n",
       "2021-06-12    1.411020\n",
       "2021-06-13    0.299936\n",
       "2021-06-14    0.461252\n",
       "2021-06-15    1.735870\n",
       "2021-06-16    0.991418\n",
       "2021-06-17    0.692666\n",
       "2021-06-18    1.991706\n",
       "2021-06-19   -0.142469\n",
       "2021-06-20   -0.593528\n",
       "2021-06-21    0.388678\n",
       "2021-06-22   -0.179476\n",
       "2021-06-23    1.090085\n",
       "2021-06-24   -0.417437\n",
       "2021-06-25    0.518605\n",
       "2021-06-26   -0.145211\n",
       "Freq: D, Length: 1000, dtype: float64"
      ]
     },
     "execution_count": 104,
     "metadata": {},
     "output_type": "execute_result"
    }
   ],
   "source": [
    "ts"
   ]
  },
  {
   "cell_type": "code",
   "execution_count": 107,
   "metadata": {},
   "outputs": [
    {
     "data": {
      "text/plain": [
       "1.1120315818515487"
      ]
     },
     "execution_count": 107,
     "metadata": {},
     "output_type": "execute_result"
    }
   ],
   "source": [
    "ts['2018-10-10']#格式可以多变"
   ]
  },
  {
   "cell_type": "code",
   "execution_count": 108,
   "metadata": {},
   "outputs": [
    {
     "data": {
      "text/plain": [
       "2018-10-01    0.795541\n",
       "2018-10-02   -0.179710\n",
       "2018-10-03   -1.032228\n",
       "2018-10-04    0.288268\n",
       "2018-10-05    0.826815\n",
       "2018-10-06    0.281637\n",
       "2018-10-07    0.514758\n",
       "2018-10-08    1.060805\n",
       "2018-10-09    0.366000\n",
       "2018-10-10    1.112032\n",
       "2018-10-11   -1.044007\n",
       "2018-10-12   -0.075687\n",
       "2018-10-13   -1.240588\n",
       "2018-10-14   -0.729614\n",
       "2018-10-15   -1.511522\n",
       "2018-10-16   -1.024361\n",
       "2018-10-17   -0.688932\n",
       "2018-10-18    0.096456\n",
       "2018-10-19   -2.033716\n",
       "2018-10-20   -1.351723\n",
       "2018-10-21   -0.597685\n",
       "2018-10-22   -0.280808\n",
       "2018-10-23    0.659348\n",
       "2018-10-24    0.374153\n",
       "2018-10-25   -0.062662\n",
       "2018-10-26    0.153080\n",
       "2018-10-27    0.813034\n",
       "2018-10-28    0.471169\n",
       "2018-10-29   -2.258879\n",
       "2018-10-30   -0.256972\n",
       "                ...   \n",
       "2018-12-02    1.525508\n",
       "2018-12-03    0.480665\n",
       "2018-12-04   -1.270007\n",
       "2018-12-05   -1.540874\n",
       "2018-12-06    0.252505\n",
       "2018-12-07   -0.798660\n",
       "2018-12-08    1.250045\n",
       "2018-12-09   -0.805874\n",
       "2018-12-10   -0.541512\n",
       "2018-12-11    0.111889\n",
       "2018-12-12    0.050950\n",
       "2018-12-13    1.078558\n",
       "2018-12-14   -1.946757\n",
       "2018-12-15   -0.142172\n",
       "2018-12-16   -0.461303\n",
       "2018-12-17    0.290855\n",
       "2018-12-18   -0.069434\n",
       "2018-12-19    1.627514\n",
       "2018-12-20    0.824607\n",
       "2018-12-21    0.978844\n",
       "2018-12-22    0.117326\n",
       "2018-12-23   -1.812429\n",
       "2018-12-24   -0.590492\n",
       "2018-12-25    1.183448\n",
       "2018-12-26    0.932680\n",
       "2018-12-27    0.933835\n",
       "2018-12-28   -0.696105\n",
       "2018-12-29   -0.377836\n",
       "2018-12-30    1.109692\n",
       "2018-12-31   -0.139611\n",
       "Freq: D, Length: 92, dtype: float64"
      ]
     },
     "execution_count": 108,
     "metadata": {},
     "output_type": "execute_result"
    }
   ],
   "source": [
    "ts['2018']#可以按年直接截取"
   ]
  },
  {
   "cell_type": "code",
   "execution_count": 109,
   "metadata": {},
   "outputs": [
    {
     "data": {
      "text/plain": [
       "1.1120315818515487"
      ]
     },
     "execution_count": 109,
     "metadata": {},
     "output_type": "execute_result"
    }
   ],
   "source": [
    "ts['10/10/2018']"
   ]
  },
  {
   "cell_type": "code",
   "execution_count": 111,
   "metadata": {},
   "outputs": [
    {
     "data": {
      "text/plain": [
       "1.1120315818515487"
      ]
     },
     "execution_count": 111,
     "metadata": {},
     "output_type": "execute_result"
    }
   ],
   "source": [
    "ts['20181010']"
   ]
  },
  {
   "cell_type": "code",
   "execution_count": 118,
   "metadata": {},
   "outputs": [
    {
     "data": {
      "text/plain": [
       "2018-11-01    0.228582\n",
       "2018-11-02    0.347125\n",
       "2018-11-03    0.474274\n",
       "2018-11-04   -0.935223\n",
       "2018-11-05    0.523389\n",
       "2018-11-06   -0.739370\n",
       "2018-11-07    1.068422\n",
       "2018-11-08    2.007107\n",
       "2018-11-09   -0.626467\n",
       "2018-11-10   -0.453673\n",
       "2018-11-11    0.409375\n",
       "2018-11-12    2.228803\n",
       "2018-11-13    0.839283\n",
       "2018-11-14    0.347060\n",
       "2018-11-15   -0.639255\n",
       "2018-11-16    0.078737\n",
       "2018-11-17    2.172902\n",
       "2018-11-18   -0.244094\n",
       "2018-11-19   -0.398750\n",
       "2018-11-20    1.001240\n",
       "2018-11-21    0.583904\n",
       "2018-11-22   -0.699758\n",
       "2018-11-23    0.113447\n",
       "2018-11-24    1.081112\n",
       "2018-11-25   -0.353636\n",
       "2018-11-26    0.552132\n",
       "2018-11-27    0.780574\n",
       "2018-11-28   -0.235429\n",
       "2018-11-29    0.894678\n",
       "2018-11-30   -0.419600\n",
       "Freq: D, dtype: float64"
      ]
     },
     "execution_count": 118,
     "metadata": {},
     "output_type": "execute_result"
    }
   ],
   "source": [
    "ts['11/2018']#按月切片"
   ]
  },
  {
   "cell_type": "code",
   "execution_count": 119,
   "metadata": {},
   "outputs": [
    {
     "data": {
      "text/plain": [
       "2018-11-12    2.228803\n",
       "2018-11-13    0.839283\n",
       "2018-11-14    0.347060\n",
       "2018-11-15   -0.639255\n",
       "2018-11-16    0.078737\n",
       "2018-11-17    2.172902\n",
       "2018-11-18   -0.244094\n",
       "2018-11-19   -0.398750\n",
       "2018-11-20    1.001240\n",
       "2018-11-21    0.583904\n",
       "2018-11-22   -0.699758\n",
       "2018-11-23    0.113447\n",
       "2018-11-24    1.081112\n",
       "2018-11-25   -0.353636\n",
       "2018-11-26    0.552132\n",
       "2018-11-27    0.780574\n",
       "2018-11-28   -0.235429\n",
       "2018-11-29    0.894678\n",
       "2018-11-30   -0.419600\n",
       "2018-12-01    2.058069\n",
       "2018-12-02    1.525508\n",
       "2018-12-03    0.480665\n",
       "2018-12-04   -1.270007\n",
       "2018-12-05   -1.540874\n",
       "2018-12-06    0.252505\n",
       "2018-12-07   -0.798660\n",
       "2018-12-08    1.250045\n",
       "2018-12-09   -0.805874\n",
       "2018-12-10   -0.541512\n",
       "2018-12-11    0.111889\n",
       "                ...   \n",
       "2019-01-11   -0.222305\n",
       "2019-01-12   -0.264250\n",
       "2019-01-13   -0.394792\n",
       "2019-01-14   -0.471899\n",
       "2019-01-15    0.624957\n",
       "2019-01-16   -0.182730\n",
       "2019-01-17    0.260155\n",
       "2019-01-18   -1.705165\n",
       "2019-01-19    0.620656\n",
       "2019-01-20    0.602580\n",
       "2019-01-21    0.571408\n",
       "2019-01-22    1.262043\n",
       "2019-01-23   -0.251632\n",
       "2019-01-24    0.122965\n",
       "2019-01-25    0.615345\n",
       "2019-01-26   -0.742373\n",
       "2019-01-27   -0.479585\n",
       "2019-01-28   -0.449065\n",
       "2019-01-29    0.260174\n",
       "2019-01-30    0.591138\n",
       "2019-01-31   -0.313967\n",
       "2019-02-01    0.069446\n",
       "2019-02-02    1.368687\n",
       "2019-02-03   -0.654247\n",
       "2019-02-04   -1.483294\n",
       "2019-02-05   -0.633615\n",
       "2019-02-06   -0.710485\n",
       "2019-02-07    2.283150\n",
       "2019-02-08   -1.351090\n",
       "2019-02-09    0.255025\n",
       "Freq: D, Length: 90, dtype: float64"
      ]
     },
     "execution_count": 119,
     "metadata": {},
     "output_type": "execute_result"
    }
   ],
   "source": [
    "ts['2018-11-12':'2019-02-09']#截取范围"
   ]
  },
  {
   "cell_type": "code",
   "execution_count": 132,
   "metadata": {},
   "outputs": [],
   "source": [
    "p=pd.Period('2018',freq='A-Jun')#pd.Period函数和参数不同无s"
   ]
  },
  {
   "cell_type": "code",
   "execution_count": 134,
   "metadata": {},
   "outputs": [
    {
     "data": {
      "text/plain": [
       "Period('2021', 'A-JUN')"
      ]
     },
     "execution_count": 134,
     "metadata": {},
     "output_type": "execute_result"
    }
   ],
   "source": [
    "p+3#"
   ]
  },
  {
   "cell_type": "code",
   "execution_count": 148,
   "metadata": {},
   "outputs": [],
   "source": [
    "p = pd.period_range('2017-1-1','2017-12-31',freq = 'M')"
   ]
  },
  {
   "cell_type": "code",
   "execution_count": 149,
   "metadata": {},
   "outputs": [
    {
     "data": {
      "text/plain": [
       "PeriodIndex(['2017-01', '2017-02', '2017-03', '2017-04', '2017-05', '2017-06',\n",
       "             '2017-07', '2017-08', '2017-09', '2017-10', '2017-11', '2017-12'],\n",
       "            dtype='period[M]', freq='M')"
      ]
     },
     "execution_count": 149,
     "metadata": {},
     "output_type": "execute_result"
    }
   ],
   "source": [
    "p"
   ]
  }
 ],
 "metadata": {
  "kernelspec": {
   "display_name": "Python 3",
   "language": "python",
   "name": "python3"
  },
  "language_info": {
   "codemirror_mode": {
    "name": "ipython",
    "version": 3
   },
   "file_extension": ".py",
   "mimetype": "text/x-python",
   "name": "python",
   "nbconvert_exporter": "python",
   "pygments_lexer": "ipython3",
   "version": "3.6.3"
  }
 },
 "nbformat": 4,
 "nbformat_minor": 2
}
