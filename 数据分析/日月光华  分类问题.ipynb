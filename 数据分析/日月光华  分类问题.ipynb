{
 "cells": [
  {
   "cell_type": "markdown",
   "metadata": {},
   "source": [
    "## 逻辑回归"
   ]
  },
  {
   "cell_type": "code",
   "execution_count": 11,
   "metadata": {
    "collapsed": true
   },
   "outputs": [],
   "source": [
    "import pandas as pd\n",
    "import matplotlib.pyplot as plt\n",
    "%matplotlib inline\n",
    "import numpy as np\n",
    "from IPython.display import Image"
   ]
  },
  {
   "cell_type": "code",
   "execution_count": 3,
   "metadata": {
    "collapsed": true
   },
   "outputs": [],
   "source": [
    "plt.style.use('ggplot')"
   ]
  },
  {
   "cell_type": "markdown",
   "metadata": {},
   "source": [
    "### sigmoid函数"
   ]
  },
  {
   "cell_type": "code",
   "execution_count": 13,
   "metadata": {},
   "outputs": [
    {
     "data": {
      "text/html": [
       "<img src=\"https://timgsa.baidu.com/timg?image&quality=80&size=b9999_10000&sec=1525367670240&di=abce45f11bfd4a035b57579e22651665&imgtype=0&src=http%3A%2F%2Fimg.blog.csdn.net%2F20160730143626838\"/>"
      ],
      "text/plain": [
       "<IPython.core.display.Image object>"
      ]
     },
     "execution_count": 13,
     "metadata": {},
     "output_type": "execute_result"
    }
   ],
   "source": [
    "Image(url= 'https://timgsa.baidu.com/timg?image&quality=80&size=b9999_10000&sec=1525367670240&di=abce45f11bfd4a035b57579e22651665&imgtype=0&src=http%3A%2F%2Fimg.blog.csdn.net%2F20160730143626838')"
   ]
  },
  {
   "cell_type": "markdown",
   "metadata": {},
   "source": [
    "德国信用卡欺诈数据集"
   ]
  },
  {
   "cell_type": "code",
   "execution_count": 46,
   "metadata": {
    "collapsed": true
   },
   "outputs": [],
   "source": [
    "data = pd.read_csv(\"credit-a.csv\", header=None) "
   ]
  },
  {
   "cell_type": "code",
   "execution_count": 47,
   "metadata": {},
   "outputs": [
    {
     "data": {
      "text/html": [
       "<div>\n",
       "<style>\n",
       "    .dataframe thead tr:only-child th {\n",
       "        text-align: right;\n",
       "    }\n",
       "\n",
       "    .dataframe thead th {\n",
       "        text-align: left;\n",
       "    }\n",
       "\n",
       "    .dataframe tbody tr th {\n",
       "        vertical-align: top;\n",
       "    }\n",
       "</style>\n",
       "<table border=\"1\" class=\"dataframe\">\n",
       "  <thead>\n",
       "    <tr style=\"text-align: right;\">\n",
       "      <th></th>\n",
       "      <th>0</th>\n",
       "      <th>1</th>\n",
       "      <th>2</th>\n",
       "      <th>3</th>\n",
       "      <th>4</th>\n",
       "      <th>5</th>\n",
       "      <th>6</th>\n",
       "      <th>7</th>\n",
       "      <th>8</th>\n",
       "      <th>9</th>\n",
       "      <th>10</th>\n",
       "      <th>11</th>\n",
       "      <th>12</th>\n",
       "      <th>13</th>\n",
       "      <th>14</th>\n",
       "      <th>15</th>\n",
       "    </tr>\n",
       "  </thead>\n",
       "  <tbody>\n",
       "    <tr>\n",
       "      <th>0</th>\n",
       "      <td>0</td>\n",
       "      <td>30.83</td>\n",
       "      <td>0.000</td>\n",
       "      <td>0</td>\n",
       "      <td>0</td>\n",
       "      <td>9</td>\n",
       "      <td>0</td>\n",
       "      <td>1.25</td>\n",
       "      <td>0</td>\n",
       "      <td>0</td>\n",
       "      <td>1</td>\n",
       "      <td>1</td>\n",
       "      <td>0</td>\n",
       "      <td>202</td>\n",
       "      <td>0.0</td>\n",
       "      <td>-1</td>\n",
       "    </tr>\n",
       "    <tr>\n",
       "      <th>1</th>\n",
       "      <td>1</td>\n",
       "      <td>58.67</td>\n",
       "      <td>4.460</td>\n",
       "      <td>0</td>\n",
       "      <td>0</td>\n",
       "      <td>8</td>\n",
       "      <td>1</td>\n",
       "      <td>3.04</td>\n",
       "      <td>0</td>\n",
       "      <td>0</td>\n",
       "      <td>6</td>\n",
       "      <td>1</td>\n",
       "      <td>0</td>\n",
       "      <td>43</td>\n",
       "      <td>560.0</td>\n",
       "      <td>-1</td>\n",
       "    </tr>\n",
       "    <tr>\n",
       "      <th>2</th>\n",
       "      <td>1</td>\n",
       "      <td>24.50</td>\n",
       "      <td>0.500</td>\n",
       "      <td>0</td>\n",
       "      <td>0</td>\n",
       "      <td>8</td>\n",
       "      <td>1</td>\n",
       "      <td>1.50</td>\n",
       "      <td>0</td>\n",
       "      <td>1</td>\n",
       "      <td>0</td>\n",
       "      <td>1</td>\n",
       "      <td>0</td>\n",
       "      <td>280</td>\n",
       "      <td>824.0</td>\n",
       "      <td>-1</td>\n",
       "    </tr>\n",
       "    <tr>\n",
       "      <th>3</th>\n",
       "      <td>0</td>\n",
       "      <td>27.83</td>\n",
       "      <td>1.540</td>\n",
       "      <td>0</td>\n",
       "      <td>0</td>\n",
       "      <td>9</td>\n",
       "      <td>0</td>\n",
       "      <td>3.75</td>\n",
       "      <td>0</td>\n",
       "      <td>0</td>\n",
       "      <td>5</td>\n",
       "      <td>0</td>\n",
       "      <td>0</td>\n",
       "      <td>100</td>\n",
       "      <td>3.0</td>\n",
       "      <td>-1</td>\n",
       "    </tr>\n",
       "    <tr>\n",
       "      <th>4</th>\n",
       "      <td>0</td>\n",
       "      <td>20.17</td>\n",
       "      <td>5.625</td>\n",
       "      <td>0</td>\n",
       "      <td>0</td>\n",
       "      <td>9</td>\n",
       "      <td>0</td>\n",
       "      <td>1.71</td>\n",
       "      <td>0</td>\n",
       "      <td>1</td>\n",
       "      <td>0</td>\n",
       "      <td>1</td>\n",
       "      <td>2</td>\n",
       "      <td>120</td>\n",
       "      <td>0.0</td>\n",
       "      <td>-1</td>\n",
       "    </tr>\n",
       "  </tbody>\n",
       "</table>\n",
       "</div>"
      ],
      "text/plain": [
       "   0      1      2   3   4   5   6     7   8   9   10  11  12   13     14  15\n",
       "0   0  30.83  0.000   0   0   9   0  1.25   0   0   1   1   0  202    0.0  -1\n",
       "1   1  58.67  4.460   0   0   8   1  3.04   0   0   6   1   0   43  560.0  -1\n",
       "2   1  24.50  0.500   0   0   8   1  1.50   0   1   0   1   0  280  824.0  -1\n",
       "3   0  27.83  1.540   0   0   9   0  3.75   0   0   5   0   0  100    3.0  -1\n",
       "4   0  20.17  5.625   0   0   9   0  1.71   0   1   0   1   2  120    0.0  -1"
      ]
     },
     "execution_count": 47,
     "metadata": {},
     "output_type": "execute_result"
    }
   ],
   "source": [
    "data.head()"
   ]
  },
  {
   "cell_type": "code",
   "execution_count": 48,
   "metadata": {},
   "outputs": [
    {
     "data": {
      "text/html": [
       "<div>\n",
       "<style>\n",
       "    .dataframe thead tr:only-child th {\n",
       "        text-align: right;\n",
       "    }\n",
       "\n",
       "    .dataframe thead th {\n",
       "        text-align: left;\n",
       "    }\n",
       "\n",
       "    .dataframe tbody tr th {\n",
       "        vertical-align: top;\n",
       "    }\n",
       "</style>\n",
       "<table border=\"1\" class=\"dataframe\">\n",
       "  <thead>\n",
       "    <tr style=\"text-align: right;\">\n",
       "      <th></th>\n",
       "      <th>0</th>\n",
       "      <th>1</th>\n",
       "      <th>2</th>\n",
       "      <th>3</th>\n",
       "      <th>4</th>\n",
       "      <th>5</th>\n",
       "      <th>6</th>\n",
       "      <th>7</th>\n",
       "      <th>8</th>\n",
       "      <th>9</th>\n",
       "      <th>10</th>\n",
       "      <th>11</th>\n",
       "      <th>12</th>\n",
       "      <th>13</th>\n",
       "      <th>14</th>\n",
       "      <th>15</th>\n",
       "    </tr>\n",
       "  </thead>\n",
       "  <tbody>\n",
       "    <tr>\n",
       "      <th>648</th>\n",
       "      <td>0</td>\n",
       "      <td>21.08</td>\n",
       "      <td>10.085</td>\n",
       "      <td>1</td>\n",
       "      <td>1</td>\n",
       "      <td>11</td>\n",
       "      <td>1</td>\n",
       "      <td>1.25</td>\n",
       "      <td>1</td>\n",
       "      <td>1</td>\n",
       "      <td>0</td>\n",
       "      <td>1</td>\n",
       "      <td>0</td>\n",
       "      <td>260</td>\n",
       "      <td>0.0</td>\n",
       "      <td>1</td>\n",
       "    </tr>\n",
       "    <tr>\n",
       "      <th>649</th>\n",
       "      <td>1</td>\n",
       "      <td>22.67</td>\n",
       "      <td>0.750</td>\n",
       "      <td>0</td>\n",
       "      <td>0</td>\n",
       "      <td>0</td>\n",
       "      <td>0</td>\n",
       "      <td>2.00</td>\n",
       "      <td>1</td>\n",
       "      <td>0</td>\n",
       "      <td>2</td>\n",
       "      <td>0</td>\n",
       "      <td>0</td>\n",
       "      <td>200</td>\n",
       "      <td>394.0</td>\n",
       "      <td>1</td>\n",
       "    </tr>\n",
       "    <tr>\n",
       "      <th>650</th>\n",
       "      <td>1</td>\n",
       "      <td>25.25</td>\n",
       "      <td>13.500</td>\n",
       "      <td>1</td>\n",
       "      <td>1</td>\n",
       "      <td>13</td>\n",
       "      <td>7</td>\n",
       "      <td>2.00</td>\n",
       "      <td>1</td>\n",
       "      <td>0</td>\n",
       "      <td>1</td>\n",
       "      <td>0</td>\n",
       "      <td>0</td>\n",
       "      <td>200</td>\n",
       "      <td>1.0</td>\n",
       "      <td>1</td>\n",
       "    </tr>\n",
       "    <tr>\n",
       "      <th>651</th>\n",
       "      <td>0</td>\n",
       "      <td>17.92</td>\n",
       "      <td>0.205</td>\n",
       "      <td>0</td>\n",
       "      <td>0</td>\n",
       "      <td>12</td>\n",
       "      <td>0</td>\n",
       "      <td>0.04</td>\n",
       "      <td>1</td>\n",
       "      <td>1</td>\n",
       "      <td>0</td>\n",
       "      <td>1</td>\n",
       "      <td>0</td>\n",
       "      <td>280</td>\n",
       "      <td>750.0</td>\n",
       "      <td>1</td>\n",
       "    </tr>\n",
       "    <tr>\n",
       "      <th>652</th>\n",
       "      <td>0</td>\n",
       "      <td>35.00</td>\n",
       "      <td>3.375</td>\n",
       "      <td>0</td>\n",
       "      <td>0</td>\n",
       "      <td>0</td>\n",
       "      <td>1</td>\n",
       "      <td>8.29</td>\n",
       "      <td>1</td>\n",
       "      <td>1</td>\n",
       "      <td>0</td>\n",
       "      <td>0</td>\n",
       "      <td>0</td>\n",
       "      <td>0</td>\n",
       "      <td>0.0</td>\n",
       "      <td>1</td>\n",
       "    </tr>\n",
       "  </tbody>\n",
       "</table>\n",
       "</div>"
      ],
      "text/plain": [
       "     0      1       2   3   4   5   6     7   8   9   10  11  12   13     14  \\\n",
       "648   0  21.08  10.085   1   1  11   1  1.25   1   1   0   1   0  260    0.0   \n",
       "649   1  22.67   0.750   0   0   0   0  2.00   1   0   2   0   0  200  394.0   \n",
       "650   1  25.25  13.500   1   1  13   7  2.00   1   0   1   0   0  200    1.0   \n",
       "651   0  17.92   0.205   0   0  12   0  0.04   1   1   0   1   0  280  750.0   \n",
       "652   0  35.00   3.375   0   0   0   1  8.29   1   1   0   0   0    0    0.0   \n",
       "\n",
       "     15  \n",
       "648   1  \n",
       "649   1  \n",
       "650   1  \n",
       "651   1  \n",
       "652   1  "
      ]
     },
     "execution_count": 48,
     "metadata": {},
     "output_type": "execute_result"
    }
   ],
   "source": [
    "data.tail()"
   ]
  },
  {
   "cell_type": "code",
   "execution_count": 49,
   "metadata": {
    "collapsed": true
   },
   "outputs": [],
   "source": [
    "from sklearn.model_selection import train_test_split\n",
    "from sklearn.linear_model.logistic import  LogisticRegression"
   ]
  },
  {
   "cell_type": "code",
   "execution_count": 50,
   "metadata": {
    "collapsed": true
   },
   "outputs": [],
   "source": [
    "x = data[data.columns[:-1]]"
   ]
  },
  {
   "cell_type": "code",
   "execution_count": 53,
   "metadata": {
    "collapsed": true
   },
   "outputs": [],
   "source": [
    "y = data[15].replace(-1,0)"
   ]
  },
  {
   "cell_type": "code",
   "execution_count": 55,
   "metadata": {
    "collapsed": true
   },
   "outputs": [],
   "source": [
    "x_train,x_test,y_train,y_test = train_test_split(x,y)"
   ]
  },
  {
   "cell_type": "code",
   "execution_count": 56,
   "metadata": {
    "collapsed": true
   },
   "outputs": [],
   "source": [
    "model = LogisticRegression()"
   ]
  },
  {
   "cell_type": "code",
   "execution_count": 57,
   "metadata": {},
   "outputs": [
    {
     "data": {
      "text/plain": [
       "LogisticRegression(C=1.0, class_weight=None, dual=False, fit_intercept=True,\n",
       "          intercept_scaling=1, max_iter=100, multi_class='ovr', n_jobs=1,\n",
       "          penalty='l2', random_state=None, solver='liblinear', tol=0.0001,\n",
       "          verbose=0, warm_start=False)"
      ]
     },
     "execution_count": 57,
     "metadata": {},
     "output_type": "execute_result"
    }
   ],
   "source": [
    "model.fit(x_train,y_train)"
   ]
  },
  {
   "cell_type": "code",
   "execution_count": 58,
   "metadata": {},
   "outputs": [
    {
     "data": {
      "text/plain": [
       "array([0, 1, 0, 0, 1, 0, 0, 0, 1, 1, 0, 1, 1, 1, 1, 0, 1, 0, 0, 0, 0, 1, 0,\n",
       "       0, 0, 0, 1, 0, 0, 1, 0, 1, 1, 1, 0, 0, 1, 1, 0, 1, 0, 0, 1, 1, 1, 1,\n",
       "       0, 1, 1, 1, 1, 0, 0, 1, 1, 1, 0, 0, 1, 0, 1, 0, 0, 1, 0, 1, 0, 0, 1,\n",
       "       1, 1, 0, 0, 0, 1, 0, 0, 1, 0, 1, 1, 1, 0, 0, 1, 1, 0, 0, 1, 0, 1, 0,\n",
       "       0, 1, 1, 0, 0, 1, 1, 1, 1, 0, 1, 1, 0, 1, 1, 1, 1, 0, 1, 0, 0, 1, 0,\n",
       "       0, 1, 0, 0, 0, 1, 1, 0, 0, 1, 1, 0, 0, 1, 1, 1, 0, 1, 1, 0, 1, 1, 0,\n",
       "       1, 1, 1, 1, 1, 0, 0, 0, 1, 0, 0, 1, 1, 0, 0, 1, 1, 0, 1, 0, 1, 1, 0,\n",
       "       0, 0, 0], dtype=int64)"
      ]
     },
     "execution_count": 58,
     "metadata": {},
     "output_type": "execute_result"
    }
   ],
   "source": [
    "model.predict(x_test)"
   ]
  },
  {
   "cell_type": "code",
   "execution_count": 59,
   "metadata": {},
   "outputs": [
    {
     "data": {
      "text/plain": [
       "array([[  8.42118755e-01,   1.57881245e-01],\n",
       "       [  3.53849684e-01,   6.46150316e-01],\n",
       "       [  5.89772834e-01,   4.10227166e-01],\n",
       "       [  9.89795079e-01,   1.02049210e-02],\n",
       "       [  4.53970427e-02,   9.54602957e-01],\n",
       "       [  9.55686055e-01,   4.43139449e-02],\n",
       "       [  8.28273345e-01,   1.71726655e-01],\n",
       "       [  7.15217461e-01,   2.84782539e-01],\n",
       "       [  7.90021133e-02,   9.20997887e-01],\n",
       "       [  7.09335586e-02,   9.29066441e-01],\n",
       "       [  5.31995686e-01,   4.68004314e-01],\n",
       "       [  4.96030463e-02,   9.50396954e-01],\n",
       "       [  1.52831284e-02,   9.84716872e-01],\n",
       "       [  6.70553619e-02,   9.32944638e-01],\n",
       "       [  5.20743922e-02,   9.47925608e-01],\n",
       "       [  9.29899388e-01,   7.01006118e-02],\n",
       "       [  6.85666682e-03,   9.93143333e-01],\n",
       "       [  7.02280851e-01,   2.97719149e-01],\n",
       "       [  8.63749191e-01,   1.36250809e-01],\n",
       "       [  7.93248379e-01,   2.06751621e-01],\n",
       "       [  5.35096686e-01,   4.64903314e-01],\n",
       "       [  4.18983124e-01,   5.81016876e-01],\n",
       "       [  8.14124654e-01,   1.85875346e-01],\n",
       "       [  8.14567995e-01,   1.85432005e-01],\n",
       "       [  8.85548358e-01,   1.14451642e-01],\n",
       "       [  9.41724862e-01,   5.82751379e-02],\n",
       "       [  5.44032687e-02,   9.45596731e-01],\n",
       "       [  7.67984562e-01,   2.32015438e-01],\n",
       "       [  9.83223111e-01,   1.67768890e-02],\n",
       "       [  2.29510597e-01,   7.70489403e-01],\n",
       "       [  8.48681806e-01,   1.51318194e-01],\n",
       "       [  1.36933701e-01,   8.63066299e-01],\n",
       "       [  6.15392279e-02,   9.38460772e-01],\n",
       "       [  6.49640738e-02,   9.35035926e-01],\n",
       "       [  8.44778708e-01,   1.55221292e-01],\n",
       "       [  7.74867033e-01,   2.25132967e-01],\n",
       "       [  4.52785960e-02,   9.54721404e-01],\n",
       "       [  4.13951765e-02,   9.58604824e-01],\n",
       "       [  9.55333450e-01,   4.46665496e-02],\n",
       "       [  2.47224241e-02,   9.75277576e-01],\n",
       "       [  9.56118896e-01,   4.38811039e-02],\n",
       "       [  5.44326290e-01,   4.55673710e-01],\n",
       "       [  2.78223741e-01,   7.21776259e-01],\n",
       "       [  4.16478099e-01,   5.83521901e-01],\n",
       "       [  2.60122300e-01,   7.39877700e-01],\n",
       "       [  4.88086307e-02,   9.51191369e-01],\n",
       "       [  8.56247014e-01,   1.43752986e-01],\n",
       "       [  1.69209088e-02,   9.83079091e-01],\n",
       "       [  1.12652610e-01,   8.87347390e-01],\n",
       "       [  5.25139421e-02,   9.47486058e-01],\n",
       "       [  4.10711457e-02,   9.58928854e-01],\n",
       "       [  9.38263223e-01,   6.17367772e-02],\n",
       "       [  8.65817876e-01,   1.34182124e-01],\n",
       "       [  3.06119732e-01,   6.93880268e-01],\n",
       "       [  4.39635202e-02,   9.56036480e-01],\n",
       "       [  7.49816979e-02,   9.25018302e-01],\n",
       "       [  5.03698332e-01,   4.96301668e-01],\n",
       "       [  9.99999189e-01,   8.11457800e-07],\n",
       "       [  4.98230390e-02,   9.50176961e-01],\n",
       "       [  8.32367949e-01,   1.67632051e-01],\n",
       "       [  6.19348622e-02,   9.38065138e-01],\n",
       "       [  9.95034142e-01,   4.96585837e-03],\n",
       "       [  9.46544362e-01,   5.34556377e-02],\n",
       "       [  7.77469556e-02,   9.22253044e-01],\n",
       "       [  9.88715740e-01,   1.12842601e-02],\n",
       "       [  6.76739343e-02,   9.32326066e-01],\n",
       "       [  1.00000000e+00,   6.82777428e-30],\n",
       "       [  8.35215475e-01,   1.64784525e-01],\n",
       "       [  5.25497099e-02,   9.47450290e-01],\n",
       "       [  1.73557257e-01,   8.26442743e-01],\n",
       "       [  3.18710961e-02,   9.68128904e-01],\n",
       "       [  9.17032904e-01,   8.29670959e-02],\n",
       "       [  8.26641810e-01,   1.73358190e-01],\n",
       "       [  8.39568438e-01,   1.60431562e-01],\n",
       "       [  1.05948015e-01,   8.94051985e-01],\n",
       "       [  9.71870481e-01,   2.81295187e-02],\n",
       "       [  5.22687388e-01,   4.77312612e-01],\n",
       "       [  1.27831708e-01,   8.72168292e-01],\n",
       "       [  9.89329211e-01,   1.06707891e-02],\n",
       "       [  6.40472635e-02,   9.35952737e-01],\n",
       "       [  3.80910832e-02,   9.61908917e-01],\n",
       "       [  5.00417631e-02,   9.49958237e-01],\n",
       "       [  6.64941351e-01,   3.35058649e-01],\n",
       "       [  8.23589417e-01,   1.76410583e-01],\n",
       "       [  1.93664551e-02,   9.80633545e-01],\n",
       "       [  4.33488113e-01,   5.66511887e-01],\n",
       "       [  6.32715168e-01,   3.67284832e-01],\n",
       "       [  9.09024784e-01,   9.09752159e-02],\n",
       "       [  3.69981197e-02,   9.63001880e-01],\n",
       "       [  7.07734271e-01,   2.92265729e-01],\n",
       "       [  7.76638545e-02,   9.22336145e-01],\n",
       "       [  8.94511331e-01,   1.05488669e-01],\n",
       "       [  8.74922994e-01,   1.25077006e-01],\n",
       "       [  5.51180934e-02,   9.44881907e-01],\n",
       "       [  6.38744632e-02,   9.36125537e-01],\n",
       "       [  7.98531627e-01,   2.01468373e-01],\n",
       "       [  7.27524774e-01,   2.72475226e-01],\n",
       "       [  5.39979763e-02,   9.46002024e-01],\n",
       "       [  1.30316551e-01,   8.69683449e-01],\n",
       "       [  3.12624769e-01,   6.87375231e-01],\n",
       "       [  4.88391903e-02,   9.51160810e-01],\n",
       "       [  6.20358561e-01,   3.79641439e-01],\n",
       "       [  6.63508563e-02,   9.33649144e-01],\n",
       "       [  4.43981303e-02,   9.55601870e-01],\n",
       "       [  5.62420824e-01,   4.37579176e-01],\n",
       "       [  4.11943131e-02,   9.58805687e-01],\n",
       "       [  1.03270048e-01,   8.96729952e-01],\n",
       "       [  4.45291889e-02,   9.55470811e-01],\n",
       "       [  8.81660460e-02,   9.11833954e-01],\n",
       "       [  8.50345298e-01,   1.49654702e-01],\n",
       "       [  1.07016472e-01,   8.92983528e-01],\n",
       "       [  7.88018509e-01,   2.11981491e-01],\n",
       "       [  9.00990633e-01,   9.90093667e-02],\n",
       "       [  4.13692960e-02,   9.58630704e-01],\n",
       "       [  8.21915845e-01,   1.78084155e-01],\n",
       "       [  9.34623120e-01,   6.53768801e-02],\n",
       "       [  3.59432105e-02,   9.64056789e-01],\n",
       "       [  7.82608186e-01,   2.17391814e-01],\n",
       "       [  8.49697956e-01,   1.50302044e-01],\n",
       "       [  7.63084146e-01,   2.36915854e-01],\n",
       "       [  5.63950588e-02,   9.43604941e-01],\n",
       "       [  4.73538772e-02,   9.52646123e-01],\n",
       "       [  8.20276467e-01,   1.79723533e-01],\n",
       "       [  9.75080203e-01,   2.49197969e-02],\n",
       "       [  8.29470660e-02,   9.17052934e-01],\n",
       "       [  6.18764280e-02,   9.38123572e-01],\n",
       "       [  9.86176598e-01,   1.38234016e-02],\n",
       "       [  5.29019825e-01,   4.70980175e-01],\n",
       "       [  2.41452586e-01,   7.58547414e-01],\n",
       "       [  1.23323595e-01,   8.76676405e-01],\n",
       "       [  8.44641202e-02,   9.15535880e-01],\n",
       "       [  7.67237932e-01,   2.32762068e-01],\n",
       "       [  8.49302888e-02,   9.15069711e-01],\n",
       "       [  6.09365875e-02,   9.39063413e-01],\n",
       "       [  9.98535191e-01,   1.46480916e-03],\n",
       "       [  7.16399329e-02,   9.28360067e-01],\n",
       "       [  1.67980974e-02,   9.83201903e-01],\n",
       "       [  6.23900269e-01,   3.76099731e-01],\n",
       "       [  3.69496543e-01,   6.30503457e-01],\n",
       "       [  1.15052013e-01,   8.84947987e-01],\n",
       "       [  4.83541470e-01,   5.16458530e-01],\n",
       "       [  1.99337480e-02,   9.80066252e-01],\n",
       "       [  6.10531969e-02,   9.38946803e-01],\n",
       "       [  5.85070930e-01,   4.14929070e-01],\n",
       "       [  9.08315174e-01,   9.16848261e-02],\n",
       "       [  7.93324145e-01,   2.06675855e-01],\n",
       "       [  4.40885467e-02,   9.55911453e-01],\n",
       "       [  8.98638245e-01,   1.01361755e-01],\n",
       "       [  8.70392235e-01,   1.29607765e-01],\n",
       "       [  2.09629984e-02,   9.79037002e-01],\n",
       "       [  4.05059781e-01,   5.94940219e-01],\n",
       "       [  8.93127483e-01,   1.06872517e-01],\n",
       "       [  1.00000000e+00,   1.57899513e-17],\n",
       "       [  4.86432721e-02,   9.51356728e-01],\n",
       "       [  4.70896654e-02,   9.52910335e-01],\n",
       "       [  8.11627287e-01,   1.88372713e-01],\n",
       "       [  3.30347902e-02,   9.66965210e-01],\n",
       "       [  5.85701087e-01,   4.14298913e-01],\n",
       "       [  8.92401116e-02,   9.10759888e-01],\n",
       "       [  3.29203842e-02,   9.67079616e-01],\n",
       "       [  9.22536703e-01,   7.74632967e-02],\n",
       "       [  7.53185488e-01,   2.46814512e-01],\n",
       "       [  1.00000000e+00,   1.09387062e-16],\n",
       "       [  8.68880956e-01,   1.31119044e-01]])"
      ]
     },
     "execution_count": 59,
     "metadata": {},
     "output_type": "execute_result"
    }
   ],
   "source": [
    "model.predict_proba(x_test)"
   ]
  },
  {
   "cell_type": "code",
   "execution_count": 60,
   "metadata": {
    "collapsed": true
   },
   "outputs": [],
   "source": [
    "from sklearn.metrics import accuracy_score"
   ]
  },
  {
   "cell_type": "code",
   "execution_count": 61,
   "metadata": {},
   "outputs": [
    {
     "data": {
      "text/plain": [
       "0.84146341463414631"
      ]
     },
     "execution_count": 61,
     "metadata": {},
     "output_type": "execute_result"
    }
   ],
   "source": [
    "accuracy_score(model.predict(x_test), y_test)"
   ]
  },
  {
   "cell_type": "code",
   "execution_count": null,
   "metadata": {
    "collapsed": true
   },
   "outputs": [],
   "source": []
  }
 ],
 "metadata": {
  "kernelspec": {
   "display_name": "Python 3",
   "language": "python",
   "name": "python3"
  },
  "language_info": {
   "codemirror_mode": {
    "name": "ipython",
    "version": 3
   },
   "file_extension": ".py",
   "mimetype": "text/x-python",
   "name": "python",
   "nbconvert_exporter": "python",
   "pygments_lexer": "ipython3",
   "version": "3.6.3"
  }
 },
 "nbformat": 4,
 "nbformat_minor": 2
}
