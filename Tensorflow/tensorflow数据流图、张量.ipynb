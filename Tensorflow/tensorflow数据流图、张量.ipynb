{
 "cells": [
  {
   "cell_type": "code",
   "execution_count": 1,
   "metadata": {},
   "outputs": [],
   "source": [
    "import tensorflow as tf"
   ]
  },
  {
   "cell_type": "code",
   "execution_count": 2,
   "metadata": {},
   "outputs": [],
   "source": [
    "a = tf.constant(2,name='input_a')#定义一个常量节点"
   ]
  },
  {
   "cell_type": "code",
   "execution_count": 3,
   "metadata": {},
   "outputs": [],
   "source": [
    "b = tf.constant(5,name='input_b')#定义一个常量节点，name是一个可选项"
   ]
  },
  {
   "cell_type": "code",
   "execution_count": 4,
   "metadata": {},
   "outputs": [],
   "source": [
    "c = tf.add(a,b,name='c')"
   ]
  },
  {
   "cell_type": "code",
   "execution_count": 5,
   "metadata": {},
   "outputs": [],
   "source": [
    "d = tf.constant(8,name = 'input_d') "
   ]
  },
  {
   "cell_type": "code",
   "execution_count": 6,
   "metadata": {},
   "outputs": [],
   "source": [
    "e = tf.multiply(c,d,name='e')"
   ]
  },
  {
   "cell_type": "code",
   "execution_count": 7,
   "metadata": {},
   "outputs": [],
   "source": [
    "sess = tf.Session()#初始化一个session"
   ]
  },
  {
   "cell_type": "code",
   "execution_count": 8,
   "metadata": {},
   "outputs": [],
   "source": [
    "out = sess.run(e)"
   ]
  },
  {
   "cell_type": "code",
   "execution_count": 9,
   "metadata": {},
   "outputs": [
    {
     "data": {
      "text/plain": [
       "56"
      ]
     },
     "execution_count": 9,
     "metadata": {},
     "output_type": "execute_result"
    }
   ],
   "source": [
    "out"
   ]
  },
  {
   "cell_type": "markdown",
   "metadata": {},
   "source": [
    "## 查看数据流图"
   ]
  },
  {
   "cell_type": "code",
   "execution_count": 10,
   "metadata": {},
   "outputs": [],
   "source": [
    "writer = tf.summary.FileWriter('D://log',sess.graph)#存储写入数据流图"
   ]
  },
  {
   "cell_type": "markdown",
   "metadata": {},
   "source": [
    "再启动个Anaconda下运行"
   ]
  },
  {
   "cell_type": "markdown",
   "metadata": {},
   "source": [
    "tensorboard --logdir=D://log"
   ]
  },
  {
   "cell_type": "markdown",
   "metadata": {},
   "source": [
    "## 张量"
   ]
  },
  {
   "cell_type": "code",
   "execution_count": 11,
   "metadata": {},
   "outputs": [],
   "source": [
    "import numpy as np"
   ]
  },
  {
   "cell_type": "code",
   "execution_count": 14,
   "metadata": {},
   "outputs": [],
   "source": [
    "f = np.random.randn(2,3,3,4)#2个【3个（3行4列）】，向量长度为4。。。"
   ]
  },
  {
   "cell_type": "code",
   "execution_count": 15,
   "metadata": {},
   "outputs": [
    {
     "data": {
      "text/plain": [
       "array([[[[ 1.21538568, -0.78703316, -2.11525119,  0.05845674],\n",
       "         [ 1.95420086,  0.22887751, -0.89661873, -0.19728157],\n",
       "         [-0.35037737, -0.45178724,  0.84896244,  0.38744152]],\n",
       "\n",
       "        [[ 2.48531043,  0.32207493, -0.46106489,  0.98418238],\n",
       "         [ 0.49435114, -0.11225238,  0.07542149,  0.42079657],\n",
       "         [ 0.70027824, -0.60211811,  0.6933112 , -0.83583507]],\n",
       "\n",
       "        [[-0.79651705,  1.34352448, -1.04726318, -1.78076849],\n",
       "         [-0.04714954,  1.46346544,  0.31854495,  0.58488169],\n",
       "         [ 0.11953472,  0.81358523, -0.08047565,  1.2527197 ]]],\n",
       "\n",
       "\n",
       "       [[[-0.20965166, -0.58953113,  0.21388531,  0.61201026],\n",
       "         [-0.59346038, -1.0753102 , -0.09218779,  0.36176628],\n",
       "         [ 0.30467453, -0.78186696,  0.40895816,  0.51953958]],\n",
       "\n",
       "        [[ 1.35754945,  0.23402071,  0.57134787,  0.10091989],\n",
       "         [-0.89015786,  1.56206967,  0.04941292,  0.99246616],\n",
       "         [ 1.01112749, -0.65406837, -0.06521311,  0.44522995]],\n",
       "\n",
       "        [[ 1.0491065 ,  2.44414988, -0.5123047 ,  0.43627041],\n",
       "         [ 1.2801793 ,  0.65897056,  1.33101375, -1.74469621],\n",
       "         [-0.24022978,  0.19356808,  0.33319249,  1.12388203]]]])"
      ]
     },
     "execution_count": 15,
     "metadata": {},
     "output_type": "execute_result"
    }
   ],
   "source": [
    "f#张量"
   ]
  },
  {
   "cell_type": "code",
   "execution_count": 16,
   "metadata": {},
   "outputs": [
    {
     "data": {
      "text/plain": [
       "(2, 3, 3, 4)"
      ]
     },
     "execution_count": 16,
     "metadata": {},
     "output_type": "execute_result"
    }
   ],
   "source": [
    "np.shape(f)"
   ]
  },
  {
   "cell_type": "code",
   "execution_count": 17,
   "metadata": {},
   "outputs": [],
   "source": [
    "a = tf.random_normal([2,3,4])#随机生成张量"
   ]
  },
  {
   "cell_type": "code",
   "execution_count": 18,
   "metadata": {},
   "outputs": [
    {
     "data": {
      "text/plain": [
       "TensorShape([Dimension(2), Dimension(3), Dimension(4)])"
      ]
     },
     "execution_count": 18,
     "metadata": {},
     "output_type": "execute_result"
    }
   ],
   "source": [
    "a.get_shape()#查看tensorflow形状"
   ]
  },
  {
   "cell_type": "markdown",
   "metadata": {},
   "source": [
    "tf.float32,tf.int32,tf.bool.tf.string#基于numpy 数据类型，可以直接传，numpy不支持string."
   ]
  },
  {
   "cell_type": "code",
   "execution_count": null,
   "metadata": {},
   "outputs": [],
   "source": []
  }
 ],
 "metadata": {
  "kernelspec": {
   "display_name": "Python 3",
   "language": "python",
   "name": "python3"
  },
  "language_info": {
   "codemirror_mode": {
    "name": "ipython",
    "version": 3
   },
   "file_extension": ".py",
   "mimetype": "text/x-python",
   "name": "python",
   "nbconvert_exporter": "python",
   "pygments_lexer": "ipython3",
   "version": "3.6.3"
  }
 },
 "nbformat": 4,
 "nbformat_minor": 2
}
