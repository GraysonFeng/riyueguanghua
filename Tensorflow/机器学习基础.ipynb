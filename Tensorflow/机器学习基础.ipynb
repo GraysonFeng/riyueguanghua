{
 "cells": [
  {
   "cell_type": "markdown",
   "metadata": {},
   "source": [
    "# 机器学习基础"
   ]
  },
  {
   "cell_type": "markdown",
   "metadata": {},
   "source": [
    "## 有监督模型"
   ]
  },
  {
   "cell_type": "markdown",
   "metadata": {},
   "source": [
    "根据有标注信息的数据集进行推断预测结果"
   ]
  },
  {
   "cell_type": "code",
   "execution_count": 1,
   "metadata": {},
   "outputs": [],
   "source": [
    "import numpy as np"
   ]
  },
  {
   "cell_type": "code",
   "execution_count": 2,
   "metadata": {},
   "outputs": [],
   "source": [
    "data_x = np.linspace(0,10,30)"
   ]
  },
  {
   "cell_type": "code",
   "execution_count": 3,
   "metadata": {},
   "outputs": [],
   "source": [
    "data_y = data_x*3 + 7 + np.random.normal(0,1,30)#np.random_normal是用来增加噪声"
   ]
  },
  {
   "cell_type": "code",
   "execution_count": 4,
   "metadata": {},
   "outputs": [],
   "source": [
    "import matplotlib.pyplot as plt\n",
    "%matplotlib inline"
   ]
  },
  {
   "cell_type": "code",
   "execution_count": 5,
   "metadata": {},
   "outputs": [
    {
     "data": {
      "text/plain": [
       "<matplotlib.collections.PathCollection at 0x1332b719eb8>"
      ]
     },
     "execution_count": 5,
     "metadata": {},
     "output_type": "execute_result"
    },
    {
     "data": {
      "image/png": "[encoded data removed]",
      "text/plain": [
       "<matplotlib.figure.Figure at 0x1332afe1550>"
      ]
     },
     "metadata": {},
     "output_type": "display_data"
    }
   ],
   "source": [
    "plt.scatter(data_x,data_y)"
   ]
  },
  {
   "cell_type": "markdown",
   "metadata": {},
   "source": [
    "## 拟合一条直线"
   ]
  },
  {
   "cell_type": "markdown",
   "metadata": {},
   "source": [
    "y = w*x+b"
   ]
  },
  {
   "cell_type": "markdown",
   "metadata": {},
   "source": [
    "* 1.定义参数\n",
    "* 2.输入训练数据\n",
    "* 3.执行推断\n",
    "* 4.计算损失\n",
    "* 5.训练模型（循环跌打，减少损失）\n",
    "* 6.评估模型"
   ]
  },
  {
   "cell_type": "code",
   "execution_count": 10,
   "metadata": {},
   "outputs": [],
   "source": [
    "import tensorflow as tf"
   ]
  },
  {
   "cell_type": "code",
   "execution_count": 11,
   "metadata": {},
   "outputs": [],
   "source": [
    "w = tf.Variable(1.,name='quanzhong')\n",
    "b = tf.Variable(0.,name='pianzhi')#1.默认成了float32"
   ]
  },
  {
   "cell_type": "markdown",
   "metadata": {},
   "source": [
    "设置占位符"
   ]
  },
  {
   "cell_type": "code",
   "execution_count": 12,
   "metadata": {},
   "outputs": [],
   "source": [
    "x = tf.placeholder(tf.float32,shape=None)#形状可以为任何值，[None]长度任意\n",
    "y = tf.placeholder(tf.float32,shape=[None])"
   ]
  },
  {
   "cell_type": "code",
   "execution_count": 13,
   "metadata": {},
   "outputs": [],
   "source": [
    "pred = tf.multiply(x,w) + b"
   ]
  },
  {
   "cell_type": "markdown",
   "metadata": {},
   "source": [
    "## 损失函数"
   ]
  },
  {
   "cell_type": "markdown",
   "metadata": {},
   "source": [
    "点和直线的平方差，然后计算一个累加值作为标准"
   ]
  },
  {
   "cell_type": "code",
   "execution_count": 14,
   "metadata": {},
   "outputs": [],
   "source": [
    "loss = tf.reduce_sum(tf.squared_difference(pred,y))#点和直线的平方差，然后计算一个累加值作为标准"
   ]
  },
  {
   "cell_type": "markdown",
   "metadata": {},
   "source": [
    "## 梯度下降法：让loss下降到最低"
   ]
  },
  {
   "cell_type": "markdown",
   "metadata": {},
   "source": [
    "求极值的方法，寻找最小的loss"
   ]
  },
  {
   "cell_type": "markdown",
   "metadata": {},
   "source": [
    "下降太快可能跳过极值，下降太慢时间太长"
   ]
  },
  {
   "cell_type": "markdown",
   "metadata": {},
   "source": [
    "** GradientDescentOptimizer梯度下降优化算法 **"
   ]
  },
  {
   "cell_type": "code",
   "execution_count": 18,
   "metadata": {},
   "outputs": [],
   "source": [
    "learn_rate = 0.0001#学习率\n",
    "train_step = tf.train.GradientDescentOptimizer(learn_rate).minimize(loss)"
   ]
  },
  {
   "cell_type": "code",
   "execution_count": 19,
   "metadata": {},
   "outputs": [],
   "source": [
    "sess = tf.Session()\n",
    "sess.run(tf.global_variables_initializer())#初始化一个变量"
   ]
  },
  {
   "cell_type": "code",
   "execution_count": 20,
   "metadata": {},
   "outputs": [
    {
     "name": "stdout",
     "output_type": "stream",
     "text": [
      "[6347.5967, 1.6204259, 0.10278133]\n",
      "[42.935287, 3.2059157, 5.7321558]\n",
      "[27.478939, 3.0384302, 6.8593631]\n",
      "[26.773766, 3.0026569, 7.1001267]\n",
      "[26.741594, 2.9950159, 7.1515512]\n",
      "[26.740124, 2.9933836, 7.1625352]\n",
      "[26.740063, 2.9930363, 7.1648722]\n",
      "[26.740055, 2.9929643, 7.1653619]\n",
      "[26.740055, 2.9929643, 7.1653619]\n",
      "[26.740055, 2.9929643, 7.1653619]\n"
     ]
    }
   ],
   "source": [
    "for i in range(10000):\n",
    "    sess.run(train_step,feed_dict={x:data_x,y:data_y})\n",
    "    if i%1000 == 0:\n",
    "        print(sess.run([loss,w,b],feed_dict={x:data_x,y:data_y}))#每隔1000步打印，学习率太快会出现Nan值"
   ]
  },
  {
   "cell_type": "markdown",
   "metadata": {},
   "source": [
    "结果"
   ]
  },
  {
   "cell_type": "code",
   "execution_count": 21,
   "metadata": {},
   "outputs": [
    {
     "data": {
      "text/plain": [
       "43.080936"
      ]
     },
     "execution_count": 21,
     "metadata": {},
     "output_type": "execute_result"
    }
   ],
   "source": [
    "sess.run(w*12+b)"
   ]
  }
 ],
 "metadata": {
  "kernelspec": {
   "display_name": "Python 3",
   "language": "python",
   "name": "python3"
  },
  "language_info": {
   "codemirror_mode": {
    "name": "ipython",
    "version": 3
   },
   "file_extension": ".py",
   "mimetype": "text/x-python",
   "name": "python",
   "nbconvert_exporter": "python",
   "pygments_lexer": "ipython3",
   "version": "3.6.3"
  }
 },
 "nbformat": 4,
 "nbformat_minor": 2
}
