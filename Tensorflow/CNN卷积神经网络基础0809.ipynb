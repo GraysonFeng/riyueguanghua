{
 "cells": [
  {
   "cell_type": "markdown",
   "metadata": {},
   "source": [
    "卷积神经网络：CNN的确是从视觉皮层的生物学上获得启发的"
   ]
  },
  {
   "cell_type": "markdown",
   "metadata": {},
   "source": [
    "简单来说：视觉皮层有小部分细胞对特定部分的视觉区域敏感"
   ]
  },
  {
   "cell_type": "markdown",
   "metadata": {},
   "source": [
    "例如：一些神经元只对垂直边缘兴奋，另一些对水平或对角边缘兴奋"
   ]
  },
  {
   "cell_type": "markdown",
   "metadata": {},
   "source": [
    "卷积就是将卷积核应用到某个张量的所有点上，通过卷积核在输入的张量上滑动（相乘）而生成经过滤波处理的张量）"
   ]
  },
  {
   "cell_type": "markdown",
   "metadata": {},
   "source": [
    "卷积提取特征：图像的边缘检测，应用到图像的每个像素上，结果就是刻画了所有边缘的的新图像"
   ]
  },
  {
   "cell_type": "markdown",
   "metadata": {},
   "source": [
    "总结：卷积完成的是对图像特征的提取或者说信息匹配，当一个包含某些特征的图像经过一个卷积核的时候，一些卷积核被激活哦，输出特定信号"
   ]
  },
  {
   "cell_type": "markdown",
   "metadata": {},
   "source": [
    "CNN架构：\n",
    "* 卷积层  conv2d\n",
    "* 非线性变换层 tf.nn.relu/sigmoid/tanh\n",
    "* 池化层 tf.nn.pool/tf.nn.avg\n",
    "* 全连接层 w*x+b"
   ]
  },
  {
   "cell_type": "markdown",
   "metadata": {},
   "source": [
    "非线性变换层：激活层"
   ]
  },
  {
   "cell_type": "markdown",
   "metadata": {},
   "source": [
    "tf.nn.relu,小于0都等于0,0以上都是线性的"
   ]
  },
  {
   "cell_type": "markdown",
   "metadata": {},
   "source": [
    "sigmoid 0到1之间"
   ]
  },
  {
   "cell_type": "markdown",
   "metadata": {},
   "source": [
    "tanh -1到1之间"
   ]
  },
  {
   "cell_type": "markdown",
   "metadata": {},
   "source": [
    "卷积层的三个参数：\n",
    "* Ksize 卷积核大小\n",
    "* strides 卷积核移动的跨度\n",
    "* padding 边缘填充"
   ]
  },
  {
   "cell_type": "markdown",
   "metadata": {},
   "source": [
    "跨度一般为111"
   ]
  },
  {
   "cell_type": "markdown",
   "metadata": {},
   "source": [
    "靠池化层降采样"
   ]
  },
  {
   "cell_type": "markdown",
   "metadata": {},
   "source": [
    "卷积核出界的部分为0填充即边缘填充。"
   ]
  },
  {
   "cell_type": "markdown",
   "metadata": {},
   "source": [
    "非线性变化层\n",
    "* tf.nn.relu\n",
    "* tf.nn.sigmoid\n",
    "* tf.nn.tanh"
   ]
  },
  {
   "cell_type": "markdown",
   "metadata": {},
   "source": [
    "池化层"
   ]
  },
  {
   "cell_type": "markdown",
   "metadata": {},
   "source": [
    "tf.nn.pool 最大池化\n",
    "tf.nn.avg 平均池化\n",
    "参数：ksize,stride\n",
    "作用：降采样\n",
    "一般第一个池化层都是用最大池化"
   ]
  },
  {
   "cell_type": "markdown",
   "metadata": {},
   "source": [
    "全连接层"
   ]
  },
  {
   "cell_type": "markdown",
   "metadata": {},
   "source": [
    "将最后的输出与全部特征连接，我们要使用全部的特征，为最后的分类做出决策。\n",
    "最后配合softmax进行分类"
   ]
  },
  {
   "cell_type": "markdown",
   "metadata": {},
   "source": [
    "特征提取：Relu-Pooling-Relu-Pooling-分类：全连接-全连接-输出"
   ]
  },
  {
   "cell_type": "code",
   "execution_count": null,
   "metadata": {},
   "outputs": [],
   "source": []
  }
 ],
 "metadata": {
  "kernelspec": {
   "display_name": "Python 3",
   "language": "python",
   "name": "python3"
  },
  "language_info": {
   "codemirror_mode": {
    "name": "ipython",
    "version": 3
   },
   "file_extension": ".py",
   "mimetype": "text/x-python",
   "name": "python",
   "nbconvert_exporter": "python",
   "pygments_lexer": "ipython3",
   "version": "3.6.3"
  }
 },
 "nbformat": 4,
 "nbformat_minor": 2
}
