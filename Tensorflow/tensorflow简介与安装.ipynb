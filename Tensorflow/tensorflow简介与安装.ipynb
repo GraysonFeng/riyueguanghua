{
 "cells": [
  {
   "cell_type": "code",
   "execution_count": 1,
   "metadata": {},
   "outputs": [],
   "source": [
    "import tensorflow as tf"
   ]
  },
  {
   "cell_type": "code",
   "execution_count": 2,
   "metadata": {},
   "outputs": [],
   "source": [
    "import numpy as np"
   ]
  },
  {
   "cell_type": "code",
   "execution_count": 3,
   "metadata": {},
   "outputs": [],
   "source": [
    "import pandas as pd "
   ]
  },
  {
   "cell_type": "code",
   "execution_count": 4,
   "metadata": {},
   "outputs": [],
   "source": [
    "import matplotlib.pyplot as plt"
   ]
  },
  {
   "cell_type": "code",
   "execution_count": 5,
   "metadata": {},
   "outputs": [],
   "source": [
    "%matplotlib inline"
   ]
  },
  {
   "cell_type": "code",
   "execution_count": 6,
   "metadata": {},
   "outputs": [],
   "source": [
    "s = tf.random_normal([2,20])#2行20列，正态分布随机数"
   ]
  },
  {
   "cell_type": "code",
   "execution_count": 7,
   "metadata": {},
   "outputs": [],
   "source": [
    "sess = tf.Session()#定义一个Session"
   ]
  },
  {
   "cell_type": "code",
   "execution_count": 8,
   "metadata": {},
   "outputs": [],
   "source": [
    "out = sess.run(s)#运行"
   ]
  },
  {
   "cell_type": "code",
   "execution_count": 9,
   "metadata": {},
   "outputs": [
    {
     "data": {
      "text/plain": [
       "array([[ -6.07363343e-01,   1.04756415e+00,  -3.77909583e-03,\n",
       "         -6.88603044e-01,   1.02066243e+00,  -5.20949602e-01,\n",
       "          1.52366090e+00,   6.84748113e-01,  -1.10973895e+00,\n",
       "          8.78672898e-01,  -1.04540849e+00,   5.26201785e-01,\n",
       "         -1.63460419e-01,   3.44292335e-02,   2.80743241e-01,\n",
       "          1.97400069e+00,  -1.47745267e-01,  -2.83422768e-01,\n",
       "         -1.22108209e+00,   1.92451084e+00],\n",
       "       [  6.56357229e-01,  -1.39943779e+00,  -1.67650986e+00,\n",
       "          4.33054775e-01,   1.25648761e+00,   1.07667804e+00,\n",
       "         -1.78593755e+00,   1.03041542e+00,   6.96664229e-02,\n",
       "          1.27383018e+00,  -1.95994857e-03,   5.84626555e-01,\n",
       "          7.26291358e-01,  -1.87459302e+00,   8.18387330e-01,\n",
       "         -2.65601370e-02,   8.67246747e-01,  -8.92640471e-01,\n",
       "         -3.04068513e-02,   4.63436872e-01]], dtype=float32)"
      ]
     },
     "execution_count": 9,
     "metadata": {},
     "output_type": "execute_result"
    }
   ],
   "source": [
    "out"
   ]
  },
  {
   "cell_type": "code",
   "execution_count": 10,
   "metadata": {},
   "outputs": [],
   "source": [
    "x,y = out#解包"
   ]
  },
  {
   "cell_type": "code",
   "execution_count": 11,
   "metadata": {},
   "outputs": [
    {
     "data": {
      "text/plain": [
       "<matplotlib.collections.PathCollection at 0x18335dc3f98>"
      ]
     },
     "execution_count": 11,
     "metadata": {},
     "output_type": "execute_result"
    },
    {
     "data": {
      "image/png": "[encoded data removed]",
      "text/plain": [
       "<matplotlib.figure.Figure at 0x18335dfbb70>"
      ]
     },
     "metadata": {},
     "output_type": "display_data"
    }
   ],
   "source": [
    "plt.scatter(x,y)"
   ]
  }
 ],
 "metadata": {
  "kernelspec": {
   "display_name": "Python 3",
   "language": "python",
   "name": "python3"
  },
  "language_info": {
   "codemirror_mode": {
    "name": "ipython",
    "version": 3
   },
   "file_extension": ".py",
   "mimetype": "text/x-python",
   "name": "python",
   "nbconvert_exporter": "python",
   "pygments_lexer": "ipython3",
   "version": "3.6.3"
  }
 },
 "nbformat": 4,
 "nbformat_minor": 2
}
