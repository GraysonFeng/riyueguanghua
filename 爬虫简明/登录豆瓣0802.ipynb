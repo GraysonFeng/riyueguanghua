{
 "cells": [
  {
   "cell_type": "code",
   "execution_count": 1,
   "metadata": {},
   "outputs": [],
   "source": [
    "import requests\n",
    "from lxml import etree\n",
    "import csv"
   ]
  },
  {
   "cell_type": "code",
   "execution_count": 2,
   "metadata": {},
   "outputs": [],
   "source": [
    "def towrite(item):\n",
    "    with open('doubanriji.csv','a',encoding='utf-8') as csvfile:\n",
    "        writer =csv.writer(csvfile)\n",
    "        try:\n",
    "            writer.writerow(item)\n",
    "        except:\n",
    "            print('write error!')\n",
    "        finally:\n",
    "            return"
   ]
  },
  {
   "cell_type": "code",
   "execution_count": 3,
   "metadata": {},
   "outputs": [
    {
     "name": "stdout",
     "output_type": "stream",
     "text": [
      "请输如验证码：quite\n"
     ]
    }
   ],
   "source": [
    "if __name__ == '__main__':\n",
    "    headers={\n",
    "        'User-Agent': 'Mozilla/5.0 (Windows NT 10.0; Win64; x64) AppleWebKit/537.36 (KHTML, like Gecko) Chrome/68.0.3440.84 Safari/537.36'}\n",
    "    url = 'https://www.douban.com/accounts/login'\n",
    "    rl =requests.get(url,headers=headers)\n",
    "    html = etree.HTML(rl.text)\n",
    "    yanzhengma = None\n",
    "    yanzhengid = None\n",
    "    try:\n",
    "        yanzhengurl = html.xpath('//*[@id=\"captcha_image\"]/@src')[0]\n",
    "        yanzhengid = yanzhengurl.split('=')[1].split('&')[0]\n",
    "        t1 = requests.get(yanzhengurl)\n",
    "        with open('yanzhengma.jpg','wb') as f:\n",
    "            f.write(t1.content)\n",
    "        from PIL import Image\n",
    "        img = Image.open('yanzhengma.jpg')\n",
    "        img.show()\n",
    "        yanzhengma = input(u'请输如验证码：')\n",
    "    except:\n",
    "        pass"
   ]
  },
  {
   "cell_type": "markdown",
   "metadata": {},
   "source": [
    "先get再post，肉眼识别验证码图片或接入打码平台"
   ]
  },
  {
   "cell_type": "code",
   "execution_count": 4,
   "metadata": {},
   "outputs": [
    {
     "name": "stdout",
     "output_type": "stream",
     "text": [
      "正在保存: 新片情报局 的日记\n",
      "正在保存: 新片情报局 的日记\n",
      "正在保存: 新片情报局 的日记\n",
      "正在保存: 8分电影新成员 的日记\n",
      "正在保存: 新片情报局 的日记\n",
      "正在保存: 新片情报局 的日记\n",
      "正在保存: 新片情报局 的日记\n"
     ]
    }
   ],
   "source": [
    "formdata ={'source':'index_nav','form_email':'13818739423@163.com','form_password':'Grayson214','captcha-solution':yanzhengma,'captcha-id':yanzhengid}\n",
    "s = requests.session()\n",
    "r = s.post(url,data = formdata)\n",
    "selector = etree.HTML(r.text)\n",
    "wenzhangs = selector.xpath('//div[@data-uid = \"900117594\"]')\n",
    "for i in range(len(wenzhangs)):\n",
    "    yonghu = selector.xpath('//*[@class = \"lnk-people\"]/text()')[i]\n",
    "    title = selector.xpath(\"//div[@class = 'title']/a/text()\")[i]\n",
    "    item = [yonghu,title]\n",
    "    towrite(item)\n",
    "    print(u'正在保存: %s 的日记' % yonghu)"
   ]
  },
  {
   "cell_type": "code",
   "execution_count": null,
   "metadata": {},
   "outputs": [],
   "source": []
  }
 ],
 "metadata": {
  "kernelspec": {
   "display_name": "Python 3",
   "language": "python",
   "name": "python3"
  },
  "language_info": {
   "codemirror_mode": {
    "name": "ipython",
    "version": 3
   },
   "file_extension": ".py",
   "mimetype": "text/x-python",
   "name": "python",
   "nbconvert_exporter": "python",
   "pygments_lexer": "ipython3",
   "version": "3.6.3"
  }
 },
 "nbformat": 4,
 "nbformat_minor": 2
}
